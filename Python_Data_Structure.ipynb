{
  "nbformat": 4,
  "nbformat_minor": 0,
  "metadata": {
    "colab": {
      "provenance": []
    },
    "kernelspec": {
      "name": "python3",
      "display_name": "Python 3"
    },
    "language_info": {
      "name": "python"
    }
  },
  "cells": [
    {
      "cell_type": "markdown",
      "source": [
        "# Theory"
      ],
      "metadata": {
        "id": "e_NgLwYKZ2HV"
      }
    },
    {
      "cell_type": "markdown",
      "source": [
        "1.What are data structures, and why are they important?\n",
        "  - Data structures are special way of managing and storing data so that it can be used efficiently.\n",
        "  - They allow data to be accessed and modified in a program."
      ],
      "metadata": {
        "id": "IEP1jBlJZ_Dh"
      }
    },
    {
      "cell_type": "markdown",
      "source": [
        "2.Explain the difference between mutable and immutable data types with examples.\n",
        "  - Mutable:- It can be changed in place without creating a new variable.\n",
        "  - Example:- List, Dictionary and Set.\n",
        "  - Immutable:- It cannot be changed after creation.\n",
        "  - Any modification in same object cannot be done.\n",
        "  - Example:- Tuple, String"
      ],
      "metadata": {
        "id": "V8ll2fjUa35h"
      }
    },
    {
      "cell_type": "markdown",
      "source": [
        "3.What are the main differences between lists and tuples in Python?\n",
        "  - The main differences between lists and tuples is mutability.\n",
        "  - List is defined in square brackets and tuple is defined in round brackets.\n",
        "  - Tuple is faster than list.\n",
        "  - And it takes less memory than list."
      ],
      "metadata": {
        "id": "IRE8o6fny4hK"
      }
    },
    {
      "cell_type": "markdown",
      "source": [
        "4.Describe how dictionaries store data.\n",
        "  - Dictionaries store data as key-value pairs using a hash table.\n",
        "  - Key is unique and mapped to its value."
      ],
      "metadata": {
        "id": "HdYwg1zR0Ev1"
      }
    },
    {
      "cell_type": "markdown",
      "source": [
        "5.Why might you use a set instead of a list in Python\n",
        "  - You can use a set instead of a list when you want to avoid duplicate elements.\n",
        "  - Or you want to improve lookup speed as set uses hashing."
      ],
      "metadata": {
        "id": "FJ0CnpYg0s5d"
      }
    },
    {
      "cell_type": "markdown",
      "source": [
        "6.What is a string in Python, and how is it different from a list?\n",
        "  - A string is a sequence of characters.\n",
        "  - It is enclosed in between single, double or triple quots.\n",
        "  - Is is different from list in many ways.\n",
        "  - String is immutable whereas list is mutable.\n",
        "  - String is sequence of characters whereas list is a sequence of any data type."
      ],
      "metadata": {
        "id": "UGiZoDeT1c2Z"
      }
    },
    {
      "cell_type": "markdown",
      "source": [
        "7.How do tuples ensure data integrity in Python?\n",
        "  - Tuples ensure data integrity in Python by immutability.\n",
        "  - You can not change data in tuple so data remain unchanged."
      ],
      "metadata": {
        "id": "QwrM8hDQ21dR"
      }
    },
    {
      "cell_type": "markdown",
      "source": [
        "8.What is a hash table, and how does it relate to dictionaries in Python?\n",
        "  - A hash table is a data structure that stores key-value pairs.\n",
        "  - It provides fast data access using a hashing.\n",
        "  - It uses a hash function to convert a key into a number or index.\n",
        "  - This index tells the program where to store the data in memory.\n",
        "  - Python dictionaries are implemented using hash tables.\n",
        "  - It use hash function to find index for the key.\n",
        "  - And tha value is then mapped to the key."
      ],
      "metadata": {
        "id": "9cV9s0CB21TE"
      }
    },
    {
      "cell_type": "markdown",
      "source": [
        "9.Can lists contain different data types in Python?\n",
        "  - Yes, lists can contain different data types.\n",
        "  - Python lists are heterogeneous which means that they can store any data types in the same list in order."
      ],
      "metadata": {
        "id": "nVm6He8a21HZ"
      }
    },
    {
      "cell_type": "markdown",
      "source": [
        "10.Explain why strings are immutable in Python.\n",
        "  - Strings are immutable because in improve program reliability and performance.\n",
        "  - Strings are used as key in dictionary so it need to be immutable for hashing."
      ],
      "metadata": {
        "id": "-L_59tBz20bm"
      }
    },
    {
      "cell_type": "markdown",
      "source": [
        "11.What advantages do dictionaries offer over lists for certain tasks?\n",
        "  - Dictionaries provides fast look up as they use hashing.\n",
        "  - Dictionaries allow to map key with value.\n",
        "  - Key can be of any immtable data type."
      ],
      "metadata": {
        "id": "RR0L7h7y6iFL"
      }
    },
    {
      "cell_type": "markdown",
      "source": [
        "12.Describe a scenario where using a tuple would be preferable over a list.\n",
        "  - Lets say you are maintaining a employees record.\n",
        "  - Then you can store employee id in a tuple so it can not be changed in future.\n",
        "  - Tuple is immutable but list is mutable so in this case we will use tuple."
      ],
      "metadata": {
        "id": "9BCqjn4E7V8h"
      }
    },
    {
      "cell_type": "markdown",
      "source": [
        "13.How do sets handle duplicate values in Python?\n",
        "  - Set uses hashing to store its data.\n",
        "  - So when you enter data it checkes if data is present or not.\n",
        "  - If data is already present then it will not store it again.\n",
        "  - This is how set handle duplicate data."
      ],
      "metadata": {
        "id": "r8YR3VCY8YmJ"
      }
    },
    {
      "cell_type": "markdown",
      "source": [
        "14.How does the “in” keyword work differently for lists and dictionaries?\n",
        "  - In python \"in\" keyword is a membership operator.\n",
        "  - In list it checks if data is present in list by linear search method which is slow.\n",
        "  - But dictonary use hashing so it use hashing to find it which is done in constant time."
      ],
      "metadata": {
        "id": "HGbF1S5q9GnM"
      }
    },
    {
      "cell_type": "markdown",
      "source": [
        "15.Can you modify the elements of a tuple? Explain why or why not.\n",
        "  - No, you can not modify elements in tuple because it is a immutable data type.\n",
        "  - If you try to modify it, it will give an error."
      ],
      "metadata": {
        "id": "yX0bpTaD-Mlv"
      }
    },
    {
      "cell_type": "markdown",
      "source": [
        "16.What is a nested dictionary, and give an example of its use case.\n",
        "  - A nested dictionary is a dictionary inside another dictionary.\n",
        "  - Lets say you want to store data of students in a college.\n",
        "  - You store data in key value pair.\n",
        "  - And want to store their grades of different subjects.\n",
        "  - You can make a key in student tuple which will be mapped to a tupple which will store there marks in a tupple with subject as key and marks as value."
      ],
      "metadata": {
        "id": "Q9aQZpet-voi"
      }
    },
    {
      "cell_type": "markdown",
      "source": [
        "17.Describe the time complexity of accessing elements in a dictionary.\n",
        "  - Time complexity of accessing elements in a dictionary is O(1).\n",
        "  - Dictonary use hashing to store values.\n",
        "  - Key is used in hash function.\n",
        "  - Hashing provides constant time look up."
      ],
      "metadata": {
        "id": "2TrbE9y8AXuO"
      }
    },
    {
      "cell_type": "markdown",
      "source": [
        "18.In what situations are lists preferred over dictionaries?\n",
        "  - When you need to store data in ordered form.\n",
        "  -When we need index based storage.\n",
        "  - When key is not avilable for data.\n",
        "  - When data is need to be stored sequently."
      ],
      "metadata": {
        "id": "b1l-VoKJBO3i"
      }
    },
    {
      "cell_type": "markdown",
      "source": [
        "19.Why are dictionaries considered unordered, and how does that affect data retrieval?\n",
        "  - Dictonary use hashing to store data so they are unordered.\n",
        "  - Due to this data can not be retrived by index or in order of insertion.\n",
        "  - Data can only be accessed be its key."
      ],
      "metadata": {
        "id": "GQwiFarXCQaM"
      }
    },
    {
      "cell_type": "markdown",
      "source": [
        "20.Explain the difference between a list and a dictionary in terms of data retrieval.\n",
        "  - List is an index based data structure.\n",
        "  - Data can be reteived only by its index.\n",
        "  - It stores data in a sequence.\n",
        "  - Whereas Dictonary is a key value pair based data structure.\n",
        "  - Which mean that data can be reterived by its key.\n",
        "  - Dictonary use hashing and look up data in constant time."
      ],
      "metadata": {
        "id": "cT2JLda_DLtX"
      }
    },
    {
      "cell_type": "markdown",
      "source": [
        "# Practical Questions"
      ],
      "metadata": {
        "id": "15iHyQUoEczd"
      }
    },
    {
      "cell_type": "code",
      "source": [
        "# 1. Write a code to create a string with your name and print it.\n",
        "name = \"Shikhar\"\n",
        "print(name)"
      ],
      "metadata": {
        "colab": {
          "base_uri": "https://localhost:8080/"
        },
        "id": "GVTXNFCR1blc",
        "outputId": "4525bfea-4139-48e2-9e46-3ad79fadd924"
      },
      "execution_count": 1,
      "outputs": [
        {
          "output_type": "stream",
          "name": "stdout",
          "text": [
            "Shikhar\n"
          ]
        }
      ]
    },
    {
      "cell_type": "code",
      "source": [
        "# 2.  Write a code to find the length of the string \"Hello World\".\n",
        "string = \"Hello World\"\n",
        "print(len(string))"
      ],
      "metadata": {
        "colab": {
          "base_uri": "https://localhost:8080/"
        },
        "id": "xRbktwqpE0ey",
        "outputId": "504195a9-3b57-4af3-faaf-7604914b321e"
      },
      "execution_count": 2,
      "outputs": [
        {
          "output_type": "stream",
          "name": "stdout",
          "text": [
            "11\n"
          ]
        }
      ]
    },
    {
      "cell_type": "code",
      "source": [
        "# 3.  Write a code to slice the first 3 characters from the string \"Python Programming\".\n",
        "string = \"Python Programming\"\n",
        "print(string[:3])"
      ],
      "metadata": {
        "colab": {
          "base_uri": "https://localhost:8080/"
        },
        "id": "PNaOpN-BE-aO",
        "outputId": "a6ff6fb1-2c18-4142-a013-154612317d0e"
      },
      "execution_count": 3,
      "outputs": [
        {
          "output_type": "stream",
          "name": "stdout",
          "text": [
            "Pyt\n"
          ]
        }
      ]
    },
    {
      "cell_type": "code",
      "source": [
        "# 4.  Write a code to convert the string \"hello\" to uppercase.\n",
        "string = \"hello\"\n",
        "print(string.upper())"
      ],
      "metadata": {
        "colab": {
          "base_uri": "https://localhost:8080/"
        },
        "id": "3pPXUh9fFG-d",
        "outputId": "cba9c6cd-bfac-49cc-bbca-0ca76f05c2b4"
      },
      "execution_count": 4,
      "outputs": [
        {
          "output_type": "stream",
          "name": "stdout",
          "text": [
            "HELLO\n"
          ]
        }
      ]
    },
    {
      "cell_type": "code",
      "source": [
        "# 5. Write a code to replace the word \"apple\" with \"orange\" in the string \"I like apple\".\n",
        "string = \"I like apple\"\n",
        "print(string.replace(\"apple\", \"orange\"))"
      ],
      "metadata": {
        "colab": {
          "base_uri": "https://localhost:8080/"
        },
        "id": "RHbOfGimFRpD",
        "outputId": "6533b50b-0b96-40b7-ba27-69b07791a29c"
      },
      "execution_count": 5,
      "outputs": [
        {
          "output_type": "stream",
          "name": "stdout",
          "text": [
            "I like orange\n"
          ]
        }
      ]
    },
    {
      "cell_type": "code",
      "source": [
        "# 6. Write a code to create a list with numbers 1 to 5 and print it.\n",
        "list = [1, 2, 3, 4, 5]\n",
        "print(list)"
      ],
      "metadata": {
        "colab": {
          "base_uri": "https://localhost:8080/"
        },
        "id": "zOHk4Ez9FcBe",
        "outputId": "197938fa-426b-4588-ce92-65a2871a3100"
      },
      "execution_count": 6,
      "outputs": [
        {
          "output_type": "stream",
          "name": "stdout",
          "text": [
            "[1, 2, 3, 4, 5]\n"
          ]
        }
      ]
    },
    {
      "cell_type": "code",
      "source": [
        "# 7. Write a code to append the number 10 to the list [1, 2, 3, 4].\n",
        "list = [1, 2, 3, 4]\n",
        "list.append(10)\n",
        "print(list)"
      ],
      "metadata": {
        "colab": {
          "base_uri": "https://localhost:8080/"
        },
        "id": "FGnP73DiFjnh",
        "outputId": "a961d53f-a556-4ef1-face-1e664bfc10ee"
      },
      "execution_count": 7,
      "outputs": [
        {
          "output_type": "stream",
          "name": "stdout",
          "text": [
            "[1, 2, 3, 4, 10]\n"
          ]
        }
      ]
    },
    {
      "cell_type": "code",
      "source": [
        "# 8. Write a code to remove the number 3 from the list [1, 2, 3, 4, 5].\n",
        "list = [1, 2, 3, 4, 5]\n",
        "list.remove(3)\n",
        "print(list)"
      ],
      "metadata": {
        "colab": {
          "base_uri": "https://localhost:8080/"
        },
        "id": "MRW3CaxGFv6c",
        "outputId": "6dd8971e-58a1-42bf-b01b-8df3feca5ef5"
      },
      "execution_count": 8,
      "outputs": [
        {
          "output_type": "stream",
          "name": "stdout",
          "text": [
            "[1, 2, 4, 5]\n"
          ]
        }
      ]
    },
    {
      "cell_type": "code",
      "source": [
        "# 9. Write a code to access the second element in the list ['a', 'b', 'c', 'd'].\n",
        "list = ['a', 'b', 'c', 'd']\n",
        "print(list[1])"
      ],
      "metadata": {
        "colab": {
          "base_uri": "https://localhost:8080/"
        },
        "id": "PBVIjyoaF3NH",
        "outputId": "ccb6c5b8-8b2c-48b9-df71-7a669abad62f"
      },
      "execution_count": 9,
      "outputs": [
        {
          "output_type": "stream",
          "name": "stdout",
          "text": [
            "b\n"
          ]
        }
      ]
    },
    {
      "cell_type": "code",
      "source": [
        "# 10. Write a code to reverse the list [10, 20, 30, 40, 50].\n",
        "list = [10, 20, 30, 40, 50]\n",
        "print(list[::-1])"
      ],
      "metadata": {
        "colab": {
          "base_uri": "https://localhost:8080/"
        },
        "id": "XWlS99GDGDxh",
        "outputId": "f86627c0-f161-4695-d3fe-167f0aa22aa6"
      },
      "execution_count": 10,
      "outputs": [
        {
          "output_type": "stream",
          "name": "stdout",
          "text": [
            "[50, 40, 30, 20, 10]\n"
          ]
        }
      ]
    },
    {
      "cell_type": "code",
      "source": [
        "# 11. Write a code to create a tuple with the elements 100, 200, 300 and print it.\n",
        "tuple = (100, 200, 300)\n",
        "print(tuple)"
      ],
      "metadata": {
        "colab": {
          "base_uri": "https://localhost:8080/"
        },
        "id": "eOZ7pzotGM0E",
        "outputId": "efae44be-0f03-4657-c1bc-a6a1ffc817aa"
      },
      "execution_count": 11,
      "outputs": [
        {
          "output_type": "stream",
          "name": "stdout",
          "text": [
            "(100, 200, 300)\n"
          ]
        }
      ]
    },
    {
      "cell_type": "code",
      "source": [
        "# 12. Write a code to access the second-to-last element of the tuple ('red', 'green', 'blue', 'yellow').\n",
        "tuple = ('red', 'green', 'blue', 'yellow')\n",
        "print(tuple[-2])"
      ],
      "metadata": {
        "colab": {
          "base_uri": "https://localhost:8080/"
        },
        "id": "SGnaWvXkGdDx",
        "outputId": "e8f51524-d5ce-4272-9655-2f157bd96ee0"
      },
      "execution_count": 12,
      "outputs": [
        {
          "output_type": "stream",
          "name": "stdout",
          "text": [
            "blue\n"
          ]
        }
      ]
    },
    {
      "cell_type": "code",
      "source": [
        "# 13. Write a code to find the minimum number in the tuple (10, 20, 5, 15).\n",
        "tuple = (10, 20, 5, 15)\n",
        "print(min(tuple))"
      ],
      "metadata": {
        "colab": {
          "base_uri": "https://localhost:8080/"
        },
        "id": "HSEarKhLGn_P",
        "outputId": "67c7baae-3113-4fb1-ef99-8a8331057d58"
      },
      "execution_count": 13,
      "outputs": [
        {
          "output_type": "stream",
          "name": "stdout",
          "text": [
            "5\n"
          ]
        }
      ]
    },
    {
      "cell_type": "code",
      "source": [
        "# 14. Write a code to find the index of the element \"cat\" in the tuple ('dog', 'cat', 'rabbit').\n",
        "tuple = ('dog', 'cat', 'rabbit')\n",
        "print(tuple.index(\"cat\"))"
      ],
      "metadata": {
        "colab": {
          "base_uri": "https://localhost:8080/"
        },
        "id": "icspAFYyGwNi",
        "outputId": "5d39a770-c2e7-43e3-bdec-886efa791d87"
      },
      "execution_count": 14,
      "outputs": [
        {
          "output_type": "stream",
          "name": "stdout",
          "text": [
            "1\n"
          ]
        }
      ]
    },
    {
      "cell_type": "code",
      "source": [
        "# 15. Write a code to create a tuple containing three different fruits and check if \"kiwi\" is in it.\n",
        "tuple = (\"apple\", \"banana\", \"orange\")\n",
        "print(\"kiwi\" in tuple)"
      ],
      "metadata": {
        "colab": {
          "base_uri": "https://localhost:8080/"
        },
        "id": "SYKpAycOG7CO",
        "outputId": "d36ebbe8-a0f7-4160-8c95-8fa845a6d721"
      },
      "execution_count": 15,
      "outputs": [
        {
          "output_type": "stream",
          "name": "stdout",
          "text": [
            "False\n"
          ]
        }
      ]
    },
    {
      "cell_type": "code",
      "source": [
        "# 16. Write a code to create a set with the elements 'a', 'b', 'c' and print it.\n",
        "set1 = {'a', 'b', 'c'}\n",
        "print(set1)"
      ],
      "metadata": {
        "colab": {
          "base_uri": "https://localhost:8080/"
        },
        "id": "2LEWbpMaHCvy",
        "outputId": "8a6aaf7e-d9be-4b2f-f93b-760458aaba1b"
      },
      "execution_count": 16,
      "outputs": [
        {
          "output_type": "stream",
          "name": "stdout",
          "text": [
            "{'a', 'b', 'c'}\n"
          ]
        }
      ]
    },
    {
      "cell_type": "code",
      "source": [
        "#  17. Write a code to clear all elements from the set {1, 2, 3, 4, 5}.\n",
        "set1 = {1, 2, 3, 4, 5}\n",
        "set1.clear()\n",
        "print(set1)"
      ],
      "metadata": {
        "colab": {
          "base_uri": "https://localhost:8080/"
        },
        "id": "Nl4vZW0PHMeT",
        "outputId": "1d3c3fe2-6c5d-4915-d090-f5d7e1b9b588"
      },
      "execution_count": 17,
      "outputs": [
        {
          "output_type": "stream",
          "name": "stdout",
          "text": [
            "set()\n"
          ]
        }
      ]
    },
    {
      "cell_type": "code",
      "source": [
        "# 18. Write a code to remove the element 4 from the set {1, 2, 3, 4}.\n",
        "set1 = {1, 2, 3, 4}\n",
        "set1.remove(4)\n",
        "print(set1)"
      ],
      "metadata": {
        "colab": {
          "base_uri": "https://localhost:8080/"
        },
        "id": "fvU-qP_MHT2q",
        "outputId": "bbcd9797-a28c-40fc-d5be-3509f23c2fcd"
      },
      "execution_count": 18,
      "outputs": [
        {
          "output_type": "stream",
          "name": "stdout",
          "text": [
            "{1, 2, 3}\n"
          ]
        }
      ]
    },
    {
      "cell_type": "code",
      "source": [
        "# 19. Write a code to find the union of two sets {1, 2, 3} and {3, 4, 5}.\n",
        "set1 = {1, 2, 3}\n",
        "set2 = {3, 4, 5}\n",
        "print(set1.union(set2))"
      ],
      "metadata": {
        "colab": {
          "base_uri": "https://localhost:8080/"
        },
        "id": "xBzxQLNCHZGc",
        "outputId": "d882a556-419b-41f1-9a73-7ff74d2428f4"
      },
      "execution_count": 19,
      "outputs": [
        {
          "output_type": "stream",
          "name": "stdout",
          "text": [
            "{1, 2, 3, 4, 5}\n"
          ]
        }
      ]
    },
    {
      "cell_type": "code",
      "source": [
        "# 20. Write a code to find the intersection of two sets {1, 2, 3} and {2, 3, 4}.\n",
        "set1 = {1, 2, 3}\n",
        "set2 = {2, 3, 4}\n",
        "print(set1.intersection(set2))"
      ],
      "metadata": {
        "colab": {
          "base_uri": "https://localhost:8080/"
        },
        "id": "crBQ2GUyHid4",
        "outputId": "ff4d7363-5ad9-47b8-8183-ac1b44dc3166"
      },
      "execution_count": 20,
      "outputs": [
        {
          "output_type": "stream",
          "name": "stdout",
          "text": [
            "{2, 3}\n"
          ]
        }
      ]
    },
    {
      "cell_type": "code",
      "source": [
        "# 21. Write a code to create a dictionary with the keys \"name\", \"age\", and \"city\", and print it.\n",
        "dict = {\"name\": \"Shikhar\", \"age\": 21, \"city\": \"Noida\"}\n",
        "print(dict)"
      ],
      "metadata": {
        "colab": {
          "base_uri": "https://localhost:8080/"
        },
        "id": "Tq2vXSduHp5P",
        "outputId": "e2947742-9b08-4d78-e877-776325493913"
      },
      "execution_count": 21,
      "outputs": [
        {
          "output_type": "stream",
          "name": "stdout",
          "text": [
            "{'name': 'Shikhar', 'age': 21, 'city': 'Noida'}\n"
          ]
        }
      ]
    },
    {
      "cell_type": "code",
      "source": [
        "# 22. Write a code to add a new key-value pair \"country\": \"USA\" to the dictionary {'name': 'John', 'age': 25}.\n",
        "dict = {'name': 'John', 'age': 25}\n",
        "dict[\"country\"] = \"USA\"\n",
        "print(dict)"
      ],
      "metadata": {
        "colab": {
          "base_uri": "https://localhost:8080/"
        },
        "id": "Ib82QFl_H4t3",
        "outputId": "4aee9fb7-db79-421b-a5d0-c6ba7de9f1b5"
      },
      "execution_count": 22,
      "outputs": [
        {
          "output_type": "stream",
          "name": "stdout",
          "text": [
            "{'name': 'John', 'age': 25, 'country': 'USA'}\n"
          ]
        }
      ]
    },
    {
      "cell_type": "code",
      "source": [
        "# 23. Write a code to access the value associated with the key \"name\" in the dictionary {'name': 'Alice', 'age': 30}.\n",
        "dict = {'name': 'Alice', 'age': 30}\n",
        "print(dict[\"name\"])"
      ],
      "metadata": {
        "colab": {
          "base_uri": "https://localhost:8080/"
        },
        "id": "4pivFgSwIBCG",
        "outputId": "e12676d7-10ca-4ac0-9419-44b37ca58d78"
      },
      "execution_count": 23,
      "outputs": [
        {
          "output_type": "stream",
          "name": "stdout",
          "text": [
            "Alice\n"
          ]
        }
      ]
    },
    {
      "cell_type": "code",
      "source": [
        "# 24. Write a code to remove the key \"age\" from the dictionary {'name': 'Bob', 'age': 22, 'city': 'New York'}.\n",
        "dict = {'name': 'Bob', 'age': 22, 'city': 'New York'}\n",
        "dict.pop(\"age\")\n",
        "print(dict)"
      ],
      "metadata": {
        "colab": {
          "base_uri": "https://localhost:8080/"
        },
        "id": "Y_3FRlOfIMBI",
        "outputId": "2a525d40-d5c0-4dfa-cd90-8bc3caf6860d"
      },
      "execution_count": 24,
      "outputs": [
        {
          "output_type": "stream",
          "name": "stdout",
          "text": [
            "{'name': 'Bob', 'city': 'New York'}\n"
          ]
        }
      ]
    },
    {
      "cell_type": "code",
      "source": [
        "# 25. Write a code to check if the key \"city\" exists in the dictionary {'name': 'Alice', 'city': 'Paris'}.\n",
        "dict = {'name': 'Alice', 'city': 'Paris'}\n",
        "print(\"city\" in dict)"
      ],
      "metadata": {
        "colab": {
          "base_uri": "https://localhost:8080/"
        },
        "id": "UtTgFq6BIVML",
        "outputId": "68313658-ec46-4a14-de3a-d85d08b9c7bf"
      },
      "execution_count": 25,
      "outputs": [
        {
          "output_type": "stream",
          "name": "stdout",
          "text": [
            "True\n"
          ]
        }
      ]
    },
    {
      "cell_type": "code",
      "source": [
        "# 26. Write a code to create a list, a tuple, and a dictionary, and print them all.\n",
        "list = [1, 2, 3, 4, 5]\n",
        "tuple = (1, 2, 3, 4, 5)\n",
        "dict = {\"name\": \"Shikhar\", \"age\": 21, \"city\": \"Noida\"}\n",
        "print(list)\n",
        "print(tuple)\n",
        "print(dict)"
      ],
      "metadata": {
        "colab": {
          "base_uri": "https://localhost:8080/"
        },
        "id": "Q74Q7RuoIbKS",
        "outputId": "f6d2c63f-ba29-4787-d6e8-17a7279dd33b"
      },
      "execution_count": 26,
      "outputs": [
        {
          "output_type": "stream",
          "name": "stdout",
          "text": [
            "[1, 2, 3, 4, 5]\n",
            "(1, 2, 3, 4, 5)\n",
            "{'name': 'Shikhar', 'age': 21, 'city': 'Noida'}\n"
          ]
        }
      ]
    },
    {
      "cell_type": "code",
      "source": [
        "# 27. Write a code to create a list of 5 random numbers between 1 and 100, sort it in ascending order, and print the result.(replaced).\n",
        "import random\n",
        "list1 = []\n",
        "for i in range(5):\n",
        "    list1.append(random.randint(1, 100))\n",
        "list1.sort()\n",
        "print(list1)"
      ],
      "metadata": {
        "colab": {
          "base_uri": "https://localhost:8080/"
        },
        "id": "RmM5rOdaIiAc",
        "outputId": "aa9893be-fd3b-42a6-83e6-b9050c9978e4"
      },
      "execution_count": 27,
      "outputs": [
        {
          "output_type": "stream",
          "name": "stdout",
          "text": [
            "[4, 5, 19, 20, 58]\n"
          ]
        }
      ]
    },
    {
      "cell_type": "code",
      "source": [
        "# 28. Write a code to create a list with strings and print the element at the third index.\n",
        "list1 = [\"apple\", \"banana\", \"orange\", \"mango\", \"grapes\"]\n",
        "print(list1[3])"
      ],
      "metadata": {
        "colab": {
          "base_uri": "https://localhost:8080/"
        },
        "id": "4LDTMIIDI7Vn",
        "outputId": "f7104c65-8478-4a69-c70c-be237a712b9e"
      },
      "execution_count": 28,
      "outputs": [
        {
          "output_type": "stream",
          "name": "stdout",
          "text": [
            "mango\n"
          ]
        }
      ]
    },
    {
      "cell_type": "code",
      "source": [
        "# 29. Write a code to combine two dictionaries into one and print the result.\n",
        "dict1 = {\"name\": \"Shikhar\", \"age\": 21}\n",
        "dict2 = {\"city\": \"Noida\", \"country\": \"India\"}\n",
        "dict1.update(dict2)\n",
        "print(dict1)"
      ],
      "metadata": {
        "colab": {
          "base_uri": "https://localhost:8080/"
        },
        "id": "da42umsgJLXB",
        "outputId": "2038e255-8d9d-4a32-cf05-b74fb23ef98f"
      },
      "execution_count": 29,
      "outputs": [
        {
          "output_type": "stream",
          "name": "stdout",
          "text": [
            "{'name': 'Shikhar', 'age': 21, 'city': 'Noida', 'country': 'India'}\n"
          ]
        }
      ]
    },
    {
      "cell_type": "code",
      "source": [
        "# 30. Write a code to convert a list of strings into a set.\n",
        "list1 = [\"apple\", \"banana\", \"orange\", \"mango\", \"grapes\"]\n",
        "set1 = set(list1)\n",
        "print(set1)"
      ],
      "metadata": {
        "colab": {
          "base_uri": "https://localhost:8080/"
        },
        "id": "AcCXJk86JgLL",
        "outputId": "9b7834e7-2418-44d4-b897-3c46b66444a4"
      },
      "execution_count": 30,
      "outputs": [
        {
          "output_type": "stream",
          "name": "stdout",
          "text": [
            "{'banana', 'apple', 'mango', 'grapes', 'orange'}\n"
          ]
        }
      ]
    },
    {
      "cell_type": "code",
      "source": [],
      "metadata": {
        "id": "MFVUrSyTJqX4"
      },
      "execution_count": 30,
      "outputs": []
    }
  ]
}