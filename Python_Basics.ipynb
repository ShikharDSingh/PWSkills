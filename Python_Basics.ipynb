{
  "nbformat": 4,
  "nbformat_minor": 0,
  "metadata": {
    "colab": {
      "provenance": []
    },
    "kernelspec": {
      "name": "python3",
      "display_name": "Python 3"
    },
    "language_info": {
      "name": "python"
    }
  },
  "cells": [
    {
      "cell_type": "markdown",
      "source": [
        "# Theory Questions"
      ],
      "metadata": {
        "id": "qEmda88RjmyK"
      }
    },
    {
      "cell_type": "markdown",
      "source": [
        "1.What is Python, and why is it popular?\n",
        "  - Python is a high level interpreted programming language.\n",
        "  -It is popular for its simplicity and high readability.\n",
        "  -It provides a very large set of libraries for Data Science and Machine Learning projects."
      ],
      "metadata": {
        "id": "95IpWVCWj4-O"
      }
    },
    {
      "cell_type": "markdown",
      "source": [
        "2.What is an interpreter in Python?\n",
        "  - An interpreter in Python is a software that executes Python code line by line\n",
        "  - It converts python code into machine code.\n",
        "  - It compile code line by line and not all at once which is the main difference between compiler and interpreter"
      ],
      "metadata": {
        "id": "8yZwcIBAlbC2"
      }
    },
    {
      "cell_type": "markdown",
      "source": [
        "3.What are pre-defined keywords in Python?\n",
        "  - Keywords in python are some pre defined reserved words which holdes some meaning and functionality.\n",
        "  - You cannot use them as variable names, function names or identifiers because they are part of the syntax rules of Python."
      ],
      "metadata": {
        "id": "Lshm9MLnmb-n"
      }
    },
    {
      "cell_type": "markdown",
      "source": [
        "4.Can keywords be used as variable names?\n",
        "  - NO, python keywords cant be used as variables and it gives syntax error when we run such program."
      ],
      "metadata": {
        "id": "iwOBMcwgnuZv"
      }
    },
    {
      "cell_type": "markdown",
      "source": [
        "5.What is mutability in Python?\n",
        "  - Mutability means if an object can change its value on runtime.\n",
        "  - It is helpful if we need to change the value of an object while a program is running."
      ],
      "metadata": {
        "id": "n6E3FPpFo9Vk"
      }
    },
    {
      "cell_type": "markdown",
      "source": [
        "6.Why are lists mutable, but tuples are immutable?\n",
        "  - Lists are mutable because it is used as dynamic data structure and it provied fucntions like append() an pop() to change its values.\n",
        "  - Tuples on the other hand are used for data which we dont want to change on runtime."
      ],
      "metadata": {
        "id": "u_nGxtXKp1De"
      }
    },
    {
      "cell_type": "markdown",
      "source": [
        "7.What is the difference between “==” and “is” operators in Python\n",
        "  - \"==\" is used for checking if two variables have same value.\n",
        "  - Where as \"is\" operator is used to check if two variables reffer to same object in the memory."
      ],
      "metadata": {
        "id": "MlAX0LuGq65G"
      }
    },
    {
      "cell_type": "markdown",
      "source": [
        "8.What are logical operators in Python?\n",
        "  - Logical operators in python are used to compare boolean expressions.\n",
        "  - Examples are AND, OR, NOT these are logical opreators."
      ],
      "metadata": {
        "id": "X9H90CoCr0ZV"
      }
    },
    {
      "cell_type": "markdown",
      "source": [
        "9.What is type casting in Python?\n",
        "  - Type casting in python means converting a value from one data type to another data type.\n",
        "  - There are two type of type casting 1.Implicit 2.Explicit\n",
        "  - Implicit converts smaller data type to larger itself without data lost.\n",
        "  - Explicit is done by user explicitily to covert one data type to other."
      ],
      "metadata": {
        "id": "KKE_bQj-shJx"
      }
    },
    {
      "cell_type": "markdown",
      "source": [
        "10.What is the difference between implicit and explicit type casting?\n",
        "  - In Implicit type casting python itself converts smaller data types to larger data types like int to float to perform operations and ensure no data lost.\n",
        "  - Where as in Explicit type casting user or programmer explicitily converts one data type to another according to his needs."
      ],
      "metadata": {
        "id": "MzkXKGqntnpz"
      }
    },
    {
      "cell_type": "markdown",
      "source": [
        " 11.What is the purpose of conditional statements in Python?\n",
        "  - Conditional statements allow your python program to control the flow of execution based on certain conditions.\n",
        "  - IF, else, elif are the keywords used for conditional statments."
      ],
      "metadata": {
        "id": "wLjDkbyTuitJ"
      }
    },
    {
      "cell_type": "markdown",
      "source": [
        "12.How does the elif statement work?\n",
        "  - The elif statement is used to check multiple conditions after the initial if.\n",
        "  - It allows you to run different blocks of code depending on which condition is true."
      ],
      "metadata": {
        "id": "qd_p_W0ivJzs"
      }
    },
    {
      "cell_type": "markdown",
      "source": [
        "13.What is the difference between for and while loops?\n",
        "  - The key difference between for and while loop is that:-\n",
        "  - for is used when we know for how many times a loop will run.\n",
        "  - And while loop is used when we dont know howmany times a loop will run but we know on which condition a loop will end."
      ],
      "metadata": {
        "id": "p1nzl_clvhR9"
      }
    },
    {
      "cell_type": "markdown",
      "source": [
        "14.Describe a scenario where a while loop is more suitable than a for loop.\n",
        "  - We use while loop when we dont know for how many times a loop will run.\n",
        "  - Lets say you are asking user to enter correct password.\n",
        "  - In that case we dont know in how many times user will enter the correct password.\n",
        "  -So here we use while loop.\n",
        "  - ex:-\n",
        "  while(user_input != correct_password):\n",
        "    user_input = input(\"Enter your password: \")\n",
        "  print(\"Access granted!\")"
      ],
      "metadata": {
        "id": "DWVozVBnwed-"
      }
    },
    {
      "cell_type": "markdown",
      "source": [
        "# Practical Questions"
      ],
      "metadata": {
        "id": "afvsqSBiyb9r"
      }
    },
    {
      "cell_type": "code",
      "execution_count": 1,
      "metadata": {
        "colab": {
          "base_uri": "https://localhost:8080/"
        },
        "id": "FSW3by5TjfYC",
        "outputId": "85e78347-96a2-461a-86c9-f1bed7759c57"
      },
      "outputs": [
        {
          "output_type": "stream",
          "name": "stdout",
          "text": [
            "Hello, World!\n"
          ]
        }
      ],
      "source": [
        "# 1.Write a Python program to print \"Hello, World!\"\n",
        "print(\"Hello, World!\")"
      ]
    },
    {
      "cell_type": "code",
      "source": [
        "# 2. Write a Python program that displays your name and age.\n",
        "name = input(\"Enter your name: \")\n",
        "age = int(input(\"Enter your age: \"))\n",
        "print(\"Name: \", name)\n",
        "print(\"Age: \", age)"
      ],
      "metadata": {
        "colab": {
          "base_uri": "https://localhost:8080/"
        },
        "id": "si67ltluy5Ki",
        "outputId": "d376262a-3a26-49e0-dc6e-d4ec76a56578"
      },
      "execution_count": 2,
      "outputs": [
        {
          "output_type": "stream",
          "name": "stdout",
          "text": [
            "Enter your name: Shikhar Singh\n",
            "Enter your age: 21\n",
            "Name:  Shikhar Singh\n",
            "Age:  21\n"
          ]
        }
      ]
    },
    {
      "cell_type": "code",
      "source": [
        "# 3. Write code to print all the pre-defined keywords in Python using the keyword library\n",
        "import keyword\n",
        "print(keyword.kwlist)"
      ],
      "metadata": {
        "colab": {
          "base_uri": "https://localhost:8080/"
        },
        "id": "q4OL7xH5zK3x",
        "outputId": "eea69004-bab3-4c3d-e014-d160963cacc2"
      },
      "execution_count": 3,
      "outputs": [
        {
          "output_type": "stream",
          "name": "stdout",
          "text": [
            "['False', 'None', 'True', 'and', 'as', 'assert', 'async', 'await', 'break', 'class', 'continue', 'def', 'del', 'elif', 'else', 'except', 'finally', 'for', 'from', 'global', 'if', 'import', 'in', 'is', 'lambda', 'nonlocal', 'not', 'or', 'pass', 'raise', 'return', 'try', 'while', 'with', 'yield']\n"
          ]
        }
      ]
    },
    {
      "cell_type": "code",
      "source": [
        "# 4. Write a program that checks if a given word is a Python keyword.\n",
        "import keyword\n",
        "word = input(\"Enter a word: \")\n",
        "if keyword.iskeyword(word):\n",
        "  print(word, \"is a keyword\")\n",
        "else:\n",
        "  print(word, \"is not a keyword\")"
      ],
      "metadata": {
        "colab": {
          "base_uri": "https://localhost:8080/"
        },
        "id": "-1sROs_Fzf8g",
        "outputId": "57c5075e-42e7-41b6-ea70-3238ef077ea2"
      },
      "execution_count": 4,
      "outputs": [
        {
          "output_type": "stream",
          "name": "stdout",
          "text": [
            "Enter a word: Shikhar\n",
            "Shikhar is not a keyword\n"
          ]
        }
      ]
    },
    {
      "cell_type": "code",
      "source": [
        "# 5.Create a list and tuple in Python, and demonstrate how attempting to change an element works differently for each.\n",
        "list = [1,2,3,4,5]\n",
        "tuple = (1,2,3,4,5)\n",
        "list[0] = 10\n",
        "tuple[0] = 10 #This will show error 'tuple' object does not support item assignment"
      ],
      "metadata": {
        "colab": {
          "base_uri": "https://localhost:8080/",
          "height": 176
        },
        "id": "BBtn9_jFztsN",
        "outputId": "695276e8-1486-4e87-bf0d-b8f5be5666d4"
      },
      "execution_count": 5,
      "outputs": [
        {
          "output_type": "error",
          "ename": "TypeError",
          "evalue": "'tuple' object does not support item assignment",
          "traceback": [
            "\u001b[0;31m---------------------------------------------------------------------------\u001b[0m",
            "\u001b[0;31mTypeError\u001b[0m                                 Traceback (most recent call last)",
            "\u001b[0;32m/tmp/ipython-input-5-2659482196.py\u001b[0m in \u001b[0;36m<cell line: 0>\u001b[0;34m()\u001b[0m\n\u001b[1;32m      3\u001b[0m \u001b[0mtuple\u001b[0m \u001b[0;34m=\u001b[0m \u001b[0;34m(\u001b[0m\u001b[0;36m1\u001b[0m\u001b[0;34m,\u001b[0m\u001b[0;36m2\u001b[0m\u001b[0;34m,\u001b[0m\u001b[0;36m3\u001b[0m\u001b[0;34m,\u001b[0m\u001b[0;36m4\u001b[0m\u001b[0;34m,\u001b[0m\u001b[0;36m5\u001b[0m\u001b[0;34m)\u001b[0m\u001b[0;34m\u001b[0m\u001b[0;34m\u001b[0m\u001b[0m\n\u001b[1;32m      4\u001b[0m \u001b[0mlist\u001b[0m\u001b[0;34m[\u001b[0m\u001b[0;36m0\u001b[0m\u001b[0;34m]\u001b[0m \u001b[0;34m=\u001b[0m \u001b[0;36m10\u001b[0m\u001b[0;34m\u001b[0m\u001b[0;34m\u001b[0m\u001b[0m\n\u001b[0;32m----> 5\u001b[0;31m \u001b[0mtuple\u001b[0m\u001b[0;34m[\u001b[0m\u001b[0;36m0\u001b[0m\u001b[0;34m]\u001b[0m \u001b[0;34m=\u001b[0m \u001b[0;36m10\u001b[0m\u001b[0;34m\u001b[0m\u001b[0;34m\u001b[0m\u001b[0m\n\u001b[0m",
            "\u001b[0;31mTypeError\u001b[0m: 'tuple' object does not support item assignment"
          ]
        }
      ]
    },
    {
      "cell_type": "code",
      "source": [
        "#6. Write a function to demonstrate the behavior of mutable and immutable arguments.\n",
        "def change(a,b):\n",
        "  a = 10\n",
        "  b[0] = 10\n",
        "  print(\"Inside function: \", a, b)\n",
        "\n",
        "a = 5 #This cant be changed by function\n",
        "b = [1,2,3,4,5] # This can be changed\n",
        "print(\"Before function call: \", a, b)\n",
        "change(a,b)\n",
        "print(\"After function call: \", a, b)"
      ],
      "metadata": {
        "colab": {
          "base_uri": "https://localhost:8080/"
        },
        "id": "YuHaRNqQ0KKH",
        "outputId": "adfb0888-b5b0-48fa-dcbd-03138cffb3aa"
      },
      "execution_count": 8,
      "outputs": [
        {
          "output_type": "stream",
          "name": "stdout",
          "text": [
            "Before function call:  5 [1, 2, 3, 4, 5]\n",
            "Inside function:  10 [10, 2, 3, 4, 5]\n",
            "After function call:  5 [10, 2, 3, 4, 5]\n"
          ]
        }
      ]
    },
    {
      "cell_type": "code",
      "source": [
        "# 7. Write a program that performs basic arithmetic operations on two user-input numbers\n",
        "num1 = int(input(\"Enter first number: \"))\n",
        "num2 = int(input(\"Enter second number: \"))\n",
        "print(\"Addition: \", num1 + num2)\n",
        "print(\"Subtraction: \", num1 - num2)"
      ],
      "metadata": {
        "colab": {
          "base_uri": "https://localhost:8080/"
        },
        "id": "NpNePUFN1Rch",
        "outputId": "9db54bcd-a953-427b-e0fb-07a71f6d1de0"
      },
      "execution_count": 9,
      "outputs": [
        {
          "output_type": "stream",
          "name": "stdout",
          "text": [
            "Enter first number: 5\n",
            "Enter second number: 3\n",
            "Addition:  8\n",
            "Subtraction:  2\n"
          ]
        }
      ]
    },
    {
      "cell_type": "code",
      "source": [
        "# 8. Write a program to demonstrate the use of logical operators\n",
        "\n",
        "age = int(input(\"Enter your age: \"))\n",
        "is_citizen = input(\"Are you a citizen? (yes/no): \").lower()\n",
        "citizen_status = is_citizen == \"yes\"\n",
        "\n",
        "if age >= 18 and citizen_status:\n",
        "    print(\"You are eligible to vote.\")\n",
        "else:\n",
        "    print(\"You are NOT eligible to vote.\")\n",
        "\n",
        "if age < 18 or not citizen_status:\n",
        "    print(\"You may need to wait or complete requirements.\")\n",
        "\n",
        "if not (age >= 18 and citizen_status):\n",
        "    print(\"You must be both 18+ and a citizen to vote.\")"
      ],
      "metadata": {
        "colab": {
          "base_uri": "https://localhost:8080/"
        },
        "id": "aWXDS3Nr1eIY",
        "outputId": "c2ede5b6-4bd3-4e39-a020-2c5f964a8c6c"
      },
      "execution_count": 10,
      "outputs": [
        {
          "output_type": "stream",
          "name": "stdout",
          "text": [
            "Enter your age: 21\n",
            "Are you a citizen? (yes/no): yes\n",
            "You are eligible to vote.\n"
          ]
        }
      ]
    },
    {
      "cell_type": "code",
      "source": [
        "# 9. Write a Python program to convert user input from string to integer, float, and boolean types\n",
        "num_str = input(\"Enter a number: \")\n",
        "num_int = int(num_str)\n",
        "num_float = float(num_str)\n",
        "num_bool = bool(num_str)\n",
        "print(\"String: \", num_str)\n",
        "print(\"Integer: \", num_int)\n",
        "print(\"Float: \", num_float)\n",
        "print(\"Boolean: \", num_bool)"
      ],
      "metadata": {
        "colab": {
          "base_uri": "https://localhost:8080/"
        },
        "id": "nCm0ech72GgK",
        "outputId": "68cb0744-bdbd-4e7e-d49d-eb0f2528fd90"
      },
      "execution_count": 11,
      "outputs": [
        {
          "output_type": "stream",
          "name": "stdout",
          "text": [
            "Enter a number: 54\n",
            "String:  54\n",
            "Integer:  54\n",
            "Float:  54.0\n",
            "Boolean:  True\n"
          ]
        }
      ]
    },
    {
      "cell_type": "code",
      "source": [
        "# 10. Write code to demonstrate type casting with list elements.\n",
        "list = [1,2,3,4,5]\n",
        "print(list)\n",
        "list = [str(i) for i in list]\n",
        "print(list)"
      ],
      "metadata": {
        "colab": {
          "base_uri": "https://localhost:8080/"
        },
        "id": "2G6qg-4_2hxc",
        "outputId": "89beac8b-33f3-44e1-c389-d53b2f331075"
      },
      "execution_count": 12,
      "outputs": [
        {
          "output_type": "stream",
          "name": "stdout",
          "text": [
            "[1, 2, 3, 4, 5]\n",
            "['1', '2', '3', '4', '5']\n"
          ]
        }
      ]
    },
    {
      "cell_type": "code",
      "source": [
        "# 11. Write a program that checks if a number is positive, negative, or zero\n",
        "num = int(input(\"Enter a number: \"))\n",
        "if num > 0:\n",
        "  print(\"Number is positive\")\n",
        "elif num < 0:\n",
        "  print(\"Number is negative\")\n",
        "else:\n",
        "  print(\"Number is zero\")"
      ],
      "metadata": {
        "colab": {
          "base_uri": "https://localhost:8080/"
        },
        "id": "hDERHIF82xaj",
        "outputId": "416e91fa-d612-4816-8c85-d8ee3f5275a6"
      },
      "execution_count": 13,
      "outputs": [
        {
          "output_type": "stream",
          "name": "stdout",
          "text": [
            "Enter a number: 32\n",
            "Number is positive\n"
          ]
        }
      ]
    },
    {
      "cell_type": "code",
      "source": [
        "# 12. Write a for loop to print numbers from 1 to 10.\n",
        "for i in range(1,11):\n",
        "  print(i, end=\" \")"
      ],
      "metadata": {
        "colab": {
          "base_uri": "https://localhost:8080/"
        },
        "id": "m26tdwTb29MO",
        "outputId": "d4bb112e-0837-4349-af7d-5986fe860617"
      },
      "execution_count": 14,
      "outputs": [
        {
          "output_type": "stream",
          "name": "stdout",
          "text": [
            "1 2 3 4 5 6 7 8 9 10 "
          ]
        }
      ]
    },
    {
      "cell_type": "code",
      "source": [
        "# 13. Write a Python program to find the sum of all even numbers between 1 and 50.\n",
        "sum = 0\n",
        "for i in range(1,51):\n",
        "  if i % 2 == 0:\n",
        "    sum += i\n",
        "print(\"Sum of all even numbers between 1 and 50 is: \", sum)"
      ],
      "metadata": {
        "colab": {
          "base_uri": "https://localhost:8080/"
        },
        "id": "1Nkx7X1L3H-m",
        "outputId": "4d05504e-9ea3-4695-feae-581631284a55"
      },
      "execution_count": 15,
      "outputs": [
        {
          "output_type": "stream",
          "name": "stdout",
          "text": [
            "Sum of all even numbers between 1 and 50 is:  650\n"
          ]
        }
      ]
    },
    {
      "cell_type": "code",
      "source": [
        "# 14. Write a program to reverse a string using a while loop.\n",
        "str = input(\"Enter a string: \")\n",
        "i = len(str) - 1\n",
        "while i >= 0:\n",
        "  print(str[i], end=\"\")\n",
        "  i -= 1"
      ],
      "metadata": {
        "colab": {
          "base_uri": "https://localhost:8080/"
        },
        "id": "IhUunQb53XkP",
        "outputId": "7ef318f4-156c-4cc0-9c18-4ef9ffa7572b"
      },
      "execution_count": 16,
      "outputs": [
        {
          "output_type": "stream",
          "name": "stdout",
          "text": [
            "Enter a string: Shikhar\n",
            "rahkihS"
          ]
        }
      ]
    },
    {
      "cell_type": "code",
      "source": [
        "#  15. Write a Python program to calculate the factorial of a number provided by the user using a while loop.\n",
        "num = int(input(\"Enter a number: \"))\n",
        "fact = 1\n",
        "i = 1\n",
        "while i <= num:\n",
        "  fact *= i\n",
        "  i += 1\n",
        "print(\"Factorial of\", num, \"is\", fact)"
      ],
      "metadata": {
        "colab": {
          "base_uri": "https://localhost:8080/"
        },
        "id": "In_P0rC536CU",
        "outputId": "80969061-bc3d-45d2-f0e1-6b49eb656c6b"
      },
      "execution_count": 18,
      "outputs": [
        {
          "output_type": "stream",
          "name": "stdout",
          "text": [
            "Enter a number: 5\n",
            "Factorial of 5 is 120\n"
          ]
        }
      ]
    },
    {
      "cell_type": "markdown",
      "source": [],
      "metadata": {
        "id": "HIu14hURjlbY"
      }
    }
  ]
}