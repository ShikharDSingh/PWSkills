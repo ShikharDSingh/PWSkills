{
  "nbformat": 4,
  "nbformat_minor": 0,
  "metadata": {
    "colab": {
      "provenance": []
    },
    "kernelspec": {
      "name": "python3",
      "display_name": "Python 3"
    },
    "language_info": {
      "name": "python"
    }
  },
  "cells": [
    {
      "cell_type": "markdown",
      "source": [
        "# Theory Questions"
      ],
      "metadata": {
        "id": "cqgFAweXO7yN"
      }
    },
    {
      "cell_type": "markdown",
      "source": [
        "1. What is Object-Oriented Programming (OOP)?\n",
        "  - OOP is a way of programming in which code represents real life objects in the form of a class.\n",
        "  - There are some principles of OOP\n",
        "    - Inheritance\n",
        "    - Encapsulation\n",
        "    - Abstraction\n",
        "    - Polymorphism"
      ],
      "metadata": {
        "id": "wmmNxOmDPAx3"
      }
    },
    {
      "cell_type": "markdown",
      "source": [
        "2. What is a class in OOP?\n",
        "  - Class can be defined as blueprint of an object.\n",
        "  - It defines the attributes and methods of the objects created from it.\n",
        "  - It is defined by `class` keyword.\n",
        "  - It consist of `__init__(self)` function to instantiate objects of the class."
      ],
      "metadata": {
        "id": "2I6lXwQuQ_xC"
      }
    },
    {
      "cell_type": "markdown",
      "source": [
        "3. What is an object in OOP?\n",
        "  - Object can be defined as instance of the class.\n",
        "  - It consists of all the properties defined in the class."
      ],
      "metadata": {
        "id": "IwdCa0b3SdR7"
      }
    },
    {
      "cell_type": "markdown",
      "source": [
        "4. What is the difference between abstraction and encapsulation?\n",
        "  - Abstraction:- It is the process of hiding complex implementation from user and provide only necessary methods and attributes.\n",
        "  - It can be archived by using abstract classes.\n",
        "  - Encapsulation:- It is the process of restricting user to acces the internal attributes and methods of a class.\n",
        "  - `__` double uderscore is used for private attributes and methods.\n",
        "  - `_` single underscore is used for protected attributes and methods."
      ],
      "metadata": {
        "id": "hAMy7ktQS6-T"
      }
    },
    {
      "cell_type": "markdown",
      "source": [
        "5. What are dunder methods in Python?\n",
        "  - Dunder methods also known as magic methods or special methods in Python are special methods that are used to implement behavior for built-in operations.\n",
        "  - They are identified by their double underscores at the beginning and end of their names.\n",
        "  - These methods allow you to customize the behavior of your objects when used with Python operators."
      ],
      "metadata": {
        "id": "5bSD7O5zVcdB"
      }
    },
    {
      "cell_type": "markdown",
      "source": [
        "6. Explain the concept of inheritance in OOP.\n",
        "  - It is a fundamental principle of OOP.\n",
        "  - It allows a class to inherit the properties of another class.\n",
        "  - Class whose properties are inherited is called parent class.\n",
        "  - Class which inherit its properties is called child class.\n",
        "  - Child class can use properties of parent class but parent class can not use propertires of child class."
      ],
      "metadata": {
        "id": "wrHOOEr6WBDo"
      }
    },
    {
      "cell_type": "markdown",
      "source": [
        "7. What is polymorphism in OOP?\n",
        "  - It is also a fundamental principle OOP.\n",
        "  - It allows user to override the methods of parent class in its child class.\n",
        "  - This way a child class can have same method as parent class with different implementation."
      ],
      "metadata": {
        "id": "nZBlFWKNW7a4"
      }
    },
    {
      "cell_type": "markdown",
      "source": [
        "8. How is encapsulation achieved in Python?\n",
        "  - Encapsulation is one of the fundamental principles of OOP that focuses on restricting direct access to an object’s attribute and methods.\n",
        "  - In python Encapsulation can be archived by using underscores.\n",
        "  - Private attributes which can only accesed within a class are defined by putting `__` double underscore before the attribute.\n",
        "  - Protected attributes which can be accessed within a class and its sub-class are defined by `_` single underscore.\n",
        "  - Public attributes which can be accessed by anywhere are defined by its name only without any underscore before its name."
      ],
      "metadata": {
        "id": "J5yCjaPbX41l"
      }
    },
    {
      "cell_type": "markdown",
      "source": [
        "9. What is a constructor in Python?\n",
        "  - A constructor in python is an special method which is used to instantiate the object of the class.\n",
        "  - `__init__(self)` this method is constructor of a class.\n",
        "  - This is the first method which runs after you create an object of class.\n",
        "  - It is used to provide some initial value to the object."
      ],
      "metadata": {
        "id": "tl1A54mJaB-Y"
      }
    },
    {
      "cell_type": "markdown",
      "source": [
        "10. What are class and static methods in Python?\n",
        "  - A class method is a method that is bound to the class, not the instance of the class.\n",
        "  - It can access and modify class-level attributes but it cannot access instance-level attributes directly.\n",
        "  - A class method is defined using the `@classmethod` decorator and takes a special parameter `cls` as the first argument.\n",
        "  - This `cls` parameter refers to the class itself, not an instance of the class.\n",
        "  - A static method is a method that belongs to the class rather than an instance.\n",
        "  - It does not have access to either class-level or instance-level attributes.\n",
        "  - Static methods are defined using the `@staticmethod` decorator and do not take `self` or `cls` as the first parameter.\n",
        "  -Static methods are used for operations that are related to the class but don't need access to the class or instance-specific data. They are essentially regular functions that live inside a class."
      ],
      "metadata": {
        "id": "7G7-XSuebdAG"
      }
    },
    {
      "cell_type": "markdown",
      "source": [
        "11. What is method overloading in Python?\n",
        "  - Python do not support method overloading in the same sense as other languages like Java and C++.\n",
        "  - But we can archive method overloading by:-\n",
        "    - By using default arguments.\n",
        "    - By using variable length arguments.\n",
        "    - By using type checking inside the function."
      ],
      "metadata": {
        "id": "Zb2LFIxYct_L"
      }
    },
    {
      "cell_type": "markdown",
      "source": [
        "12. What is method overriding in OOP?\n",
        "  - Method overriding is a concept in which a sub-class can change and the methods of its parent class in its own class.\n",
        "  - This is to allow the sub-class to modify and extend the methods of parent class."
      ],
      "metadata": {
        "id": "4f1yaOdDe2Um"
      }
    },
    {
      "cell_type": "markdown",
      "source": [
        "13. What is a property decorator in Python?\n",
        "  - The `@property` decorator in python is a built-in decorator that allows you to define getter methods as if they were attributes.\n",
        "  - It allows you to define methods that can be accessed like instance variables, without the need to explicitly call them like regular methods."
      ],
      "metadata": {
        "id": "khLuLRzogivs"
      }
    },
    {
      "cell_type": "markdown",
      "source": [
        "14. Why is polymorphism important in OOP?\n",
        "  - Polymorphism is an important concept of OOP because by using polymorphism we can override methods of parent class.\n",
        "  - By this parent class and sub-class both have same method but with different implementation which increases code readibility and simplicity."
      ],
      "metadata": {
        "id": "uJI7GgTmhyDt"
      }
    },
    {
      "cell_type": "markdown",
      "source": [
        "15. What is an abstract class in Python?\n",
        "  - An abstract class in python is a class that cannot be instantiated directly.\n",
        "  - It serves as a blueprint for other classes.\n",
        "  - An abstract class can contain abstract methods, which are methods that have no implementation in the abstract class itself and must be implemented by sub-classes.\n",
        "  - The purpose of abstract classes is to allow sub-classes to define their own behavior while maintaining a common interface."
      ],
      "metadata": {
        "id": "oG54wQCTjLIE"
      }
    },
    {
      "cell_type": "markdown",
      "source": [
        "16. What are the advantages of OOP?\n",
        "  - OOP is a way of programming in which class and objects are used.\n",
        "  - OOP provides modularity due to which code is defind in different modules.\n",
        "  - OOP provides code resuability you can use the same code again and again without rewriting it.\n",
        "  - Maintanence is easy as code is divided into small modules.\n",
        "  - Scalability is also a factor, OOP code is divided into modules and easy to scale.\n",
        "  - Eazy testing is possible of individual modules."
      ],
      "metadata": {
        "id": "Vb6QlCa4jsV5"
      }
    },
    {
      "cell_type": "markdown",
      "source": [
        "17. What is the difference between a class variable and an instance variable?\n",
        "  - Class variable:-\n",
        "      - A class variable is defined at the class level.\n",
        "      - It is shared by all instances of the class, meaning all objects created from the class will refer to the same variable.\n",
        "      - Declared inside the class but outside of any methods, usually directly below the class definition.\n",
        "      - The value of the class variable is shared by all instances of the class.\n",
        "  - Instance variable:-\n",
        "      - An instance variable is defined at the instance level.\n",
        "      - Each object of the class have its own copy of the instance variable.\n",
        "      - Declared inside the `__init__()` constructor method using self, which refers to the individual instance of the class.\n",
        "      - The value of the instance variable is specific to each instance.\n",
        "      - Changing the value of an instance variable for one object does not affect other objects of the same class."
      ],
      "metadata": {
        "id": "ZAqpgpOZlHVp"
      }
    },
    {
      "cell_type": "markdown",
      "source": [
        "18. What is multiple inheritance in Python?\n",
        "  - Multiple inheritance refers to the concept where a class can inherit attributes and methods from more than one parent class.\n",
        "  - In python this allows a class to have multiple base classes, and it can inherit features from all of them.\n",
        "  - This is different from single inheritance, where a class can only inherit from one parent class."
      ],
      "metadata": {
        "id": "8IR6kYNMnPCF"
      }
    },
    {
      "cell_type": "markdown",
      "source": [
        "19. Explain the purpose of ’__str__’ and ‘__repr__’  methods in Python.\n",
        "  - `__str__` method:-\n",
        "      - The __str__ method is used to define the human-readable string representation of an object.\n",
        "      - It is primarily used when you print an object or convert it to a string using `str()` method.\n",
        "  - `__repr__` method:-\n",
        "      - The `__repr__` method is used to define the official string representation of an object.\n",
        "      - It is intended to provide a string that could ideally be used to recreate the object."
      ],
      "metadata": {
        "id": "W5Xv2Q7XnoqW"
      }
    },
    {
      "cell_type": "markdown",
      "source": [
        "20. What is the significance of the ‘super()’ function in Python\n",
        "  - The `super()` function in python is used to call methods from a parent class in a sub-class.\n",
        "  - It provides a way to access the methods and attributes of the parent class without explicitly referring to the parent class by name.\n",
        "  - This is particularly useful in the context of inheritance."
      ],
      "metadata": {
        "id": "QIg81Y8Eo03k"
      }
    },
    {
      "cell_type": "markdown",
      "source": [
        "21. What is the significance of the __del__ method in Python?\n",
        "  - The `__del__` method in python is a dunder method that is known as a destructor.\n",
        "  - It is called when an object is about to be destroyed, allowing you to perform any cleanup operations before the object is removed from memory."
      ],
      "metadata": {
        "id": "-8ihs9o0pSQ8"
      }
    },
    {
      "cell_type": "markdown",
      "source": [
        "22. What is the difference between @staticmethod and @classmethod in Python?\n",
        "  - Static Method:-\n",
        "      - A static method doesn't depend on instance-specific data or class-specific data.\n",
        "      - It behaves like a regular function but belongs to the class's namespace.\n",
        "      - It does not take any reference to the class or instance as its first argument.\n",
        "  - Class Method:-\n",
        "      - A class method is bound to the class and takes the class itself as the first argument, instead of the instance.\n",
        "      - This allows the method to modify class-level variables or call other class methods, but not instance-level variables."
      ],
      "metadata": {
        "id": "bqTBvNQ5puRx"
      }
    },
    {
      "cell_type": "markdown",
      "source": [
        "23. How does polymorphism work in Python with inheritance?\n",
        "  - Polymorphism allows different classes to implement the same method but behave differently when the method is called.\n",
        "  - This is possible because the method in the parent class is overridden in the child class, and the child class provides its own version of the method."
      ],
      "metadata": {
        "id": "3PkoJRDVqYwN"
      }
    },
    {
      "cell_type": "markdown",
      "source": [
        "24. What is method chaining in Python OOP?\n",
        "  - Method Chaining is a technique where multiple methods are called on the same object one after the other in a single line of code.\n",
        "  - In Python method chaining is possible when each method in the chain returns the object itself. This allows you to call methods on the object consecutively, without needing to reference the object again in between."
      ],
      "metadata": {
        "id": "MQMK0xTjq3ZV"
      }
    },
    {
      "cell_type": "markdown",
      "source": [
        "25. What is the purpose of the __call__ method in Python?\n",
        "  - The `__call__` method in python is a special method that allows an instance of a class to be called like a regular function.\n",
        "  - When an object of a class that defines the `__call__` method is called, python invokes the `__call__` method, passing any arguments and keyword arguments provided during the call.\n",
        "  - The __call__ method lets you make an object callable, meaning you can use it like a function or method."
      ],
      "metadata": {
        "id": "c5NnIP8ArXsF"
      }
    },
    {
      "cell_type": "markdown",
      "source": [
        "# Practical Questions"
      ],
      "metadata": {
        "id": "eG7FTXuVsLVC"
      }
    },
    {
      "cell_type": "code",
      "execution_count": 1,
      "metadata": {
        "colab": {
          "base_uri": "https://localhost:8080/"
        },
        "id": "p3bWkko4O6w7",
        "outputId": "7723a4e9-081b-494c-8599-4fb86ab95020"
      },
      "outputs": [
        {
          "output_type": "stream",
          "name": "stdout",
          "text": [
            "Bark!\n",
            "This animal makes a sound\n"
          ]
        }
      ],
      "source": [
        "#  1. Create a parent class Animal with a method speak() that prints a generic message. Create a child class Dog that overrides the speak() method to print \"Bark!\".\n",
        "class Animal:\n",
        "    def speak(self):\n",
        "        print(\"This animal makes a sound\")\n",
        "class Dog(Animal):\n",
        "    def speak(self):\n",
        "        print(\"Bark!\")\n",
        "dog = Dog()\n",
        "dog.speak()\n",
        "animal = Animal()\n",
        "animal.speak()"
      ]
    },
    {
      "cell_type": "code",
      "source": [
        "# 2. Write a program to create an abstract class Shape with a method area(). Derive classes Circle and Rectangle from it and implement the area() method in both.\n",
        "from abc import ABC, abstractmethod\n",
        "import math\n",
        "\n",
        "class Shape(ABC):\n",
        "    @abstractmethod\n",
        "    def area(self):\n",
        "        pass\n",
        "\n",
        "class Circle(Shape):\n",
        "    def __init__(self, radius):\n",
        "        self.radius = radius\n",
        "\n",
        "    def area(self):\n",
        "        return math.pi * (self.radius ** 2)\n",
        "\n",
        "class Rectangle(Shape):\n",
        "    def __init__(self, width, height):\n",
        "        self.width = width\n",
        "        self.height = height\n",
        "\n",
        "    def area(self):\n",
        "        return self.width * self.height\n",
        "\n",
        "circle = Circle(5)\n",
        "rectangle = Rectangle(4, 6)\n",
        "print(f\"Area of Circle: {circle.area()}\")\n",
        "print(f\"Area of Rectangle: {rectangle.area()}\")\n"
      ],
      "metadata": {
        "colab": {
          "base_uri": "https://localhost:8080/"
        },
        "id": "8vwOWFGmtISS",
        "outputId": "831ac567-9cbd-44d6-e02e-856524419362"
      },
      "execution_count": 2,
      "outputs": [
        {
          "output_type": "stream",
          "name": "stdout",
          "text": [
            "Area of Circle: 78.53981633974483\n",
            "Area of Rectangle: 24\n"
          ]
        }
      ]
    },
    {
      "cell_type": "code",
      "source": [
        "#  3. Implement a multi-level inheritance scenario where a class Vehicle has an attribute type. Derive a class Car and further derive a class ElectricCar that adds a battery attribute.\n",
        "\n",
        "class Vehicle:\n",
        "    def __init__(self, type):\n",
        "        self.type = type\n",
        "\n",
        "    def display_type(self):\n",
        "        print(f\"Vehicle Type: {self.type}\")\n",
        "\n",
        "class Car(Vehicle):\n",
        "    def __init__(self, type, model):\n",
        "        super().__init__(type)\n",
        "        self.model = model\n",
        "\n",
        "    def display_info(self):\n",
        "        print(f\"Car Model: {self.model}\")\n",
        "        self.display_type()\n",
        "\n",
        "class ElectricCar(Car):\n",
        "    def __init__(self, type, model, battery_capacity):\n",
        "        super().__init__(type, model)\n",
        "        self.battery_capacity = battery_capacity\n",
        "\n",
        "    def display_electric_info(self):\n",
        "        print(f\"Battery Capacity: {self.battery_capacity} kWh\")\n",
        "        self.display_info()\n",
        "\n",
        "electric_car = ElectricCar(\"Electric\", \"Tesla Model S\", 100)\n",
        "\n",
        "electric_car.display_electric_info()\n"
      ],
      "metadata": {
        "colab": {
          "base_uri": "https://localhost:8080/"
        },
        "id": "6aVt2E0Ttpjm",
        "outputId": "8e043f80-b1d3-4fdd-fb81-1f9c05297be0"
      },
      "execution_count": 3,
      "outputs": [
        {
          "output_type": "stream",
          "name": "stdout",
          "text": [
            "Battery Capacity: 100 kWh\n",
            "Car Model: Tesla Model S\n",
            "Vehicle Type: Electric\n"
          ]
        }
      ]
    },
    {
      "cell_type": "code",
      "source": [
        "# 4. Demonstrate polymorphism by creating a base class Bird with a method fly(). Create two derived classes Sparrow and Penguin that override the fly() method.\n",
        "\n",
        "class Bird:\n",
        "    def fly(self):\n",
        "        print(\"This bird can fly.\")\n",
        "\n",
        "class Sparrow(Bird):\n",
        "    def fly(self):\n",
        "        print(\"The sparrow is flying high.\")\n",
        "\n",
        "class Penguin(Bird):\n",
        "    def fly(self):\n",
        "        print(\"Penguins cannot fly.\")\n",
        "\n",
        "def bird_fly(bird):\n",
        "    bird.fly()\n",
        "\n",
        "sparrow = Sparrow()\n",
        "penguin = Penguin()\n",
        "\n",
        "bird_fly(sparrow)\n",
        "bird_fly(penguin)\n"
      ],
      "metadata": {
        "colab": {
          "base_uri": "https://localhost:8080/"
        },
        "id": "UP96g0x1uFmV",
        "outputId": "83482df5-0868-4c94-ab5a-31210dbfcb14"
      },
      "execution_count": 4,
      "outputs": [
        {
          "output_type": "stream",
          "name": "stdout",
          "text": [
            "The sparrow is flying high.\n",
            "Penguins cannot fly.\n"
          ]
        }
      ]
    },
    {
      "cell_type": "code",
      "source": [
        "# 5. Write a program to demonstrate encapsulation by creating a class BankAccount with private attributes balance and methods to deposit, withdraw, and check balance.\n",
        "class BankAccount:\n",
        "    def __init__(self, initial_balance=0):\n",
        "        self.__balance = initial_balance\n",
        "\n",
        "    def deposit(self, amount):\n",
        "        if amount > 0:\n",
        "            self.__balance += amount\n",
        "            print(f\"Deposited: ${amount}\")\n",
        "        else:\n",
        "            print(\"Deposit amount must be positive.\")\n",
        "\n",
        "    def withdraw(self, amount):\n",
        "        if amount > 0 and amount <= self.__balance:\n",
        "            self.__balance -= amount\n",
        "            print(f\"Withdrew: ${amount}\")\n",
        "        else:\n",
        "            print(\"Invalid withdrawal amount or insufficient balance.\")\n",
        "\n",
        "    def check_balance(self):\n",
        "        print(f\"Current balance: ${self.__balance}\")\n",
        "\n",
        "account = BankAccount(1000)\n",
        "account.check_balance()\n",
        "account.deposit(500)\n",
        "account.withdraw(200)\n",
        "account.withdraw(1500)\n",
        "account.check_balance()\n"
      ],
      "metadata": {
        "colab": {
          "base_uri": "https://localhost:8080/"
        },
        "id": "L1fSsc3funR4",
        "outputId": "36042dbb-20c5-45bb-f4c3-c52726e9798c"
      },
      "execution_count": 5,
      "outputs": [
        {
          "output_type": "stream",
          "name": "stdout",
          "text": [
            "Current balance: $1000\n",
            "Deposited: $500\n",
            "Withdrew: $200\n",
            "Invalid withdrawal amount or insufficient balance.\n",
            "Current balance: $1300\n"
          ]
        }
      ]
    },
    {
      "cell_type": "code",
      "source": [
        "# 6. Demonstrate runtime polymorphism using a method play() in a base class Instrument. Derive classes Guitar and Piano that implement their own version of play()\n",
        "\n",
        "class Instrument:\n",
        "    def play(self):\n",
        "        print(\"Playing the instrument\")\n",
        "\n",
        "class Guitar(Instrument):\n",
        "    def play(self):\n",
        "        print(\"Strumming the guitar\")\n",
        "\n",
        "class Piano(Instrument):\n",
        "    def play(self):\n",
        "        print(\"Playing the piano\")\n",
        "\n",
        "def perform_play(instrument):\n",
        "    instrument.play()\n",
        "\n",
        "guitar = Guitar()\n",
        "piano = Piano()\n",
        "\n",
        "perform_play(guitar)\n",
        "perform_play(piano)\n"
      ],
      "metadata": {
        "colab": {
          "base_uri": "https://localhost:8080/"
        },
        "id": "tMflWdlOvAPK",
        "outputId": "f1336393-c064-4e3b-c2f3-bf9da8be9433"
      },
      "execution_count": 6,
      "outputs": [
        {
          "output_type": "stream",
          "name": "stdout",
          "text": [
            "Strumming the guitar\n",
            "Playing the piano\n"
          ]
        }
      ]
    },
    {
      "cell_type": "code",
      "source": [
        "# 7. Create a class MathOperations with a class method add_numbers() to add two numbers and a static method subtract_numbers() to subtract two numbers\n",
        "class MathOperations:\n",
        "    @classmethod\n",
        "    def add_numbers(cls, num1, num2):\n",
        "        result = num1 + num2\n",
        "        print(f\"Sum: {result}\")\n",
        "        return result\n",
        "\n",
        "    @staticmethod\n",
        "    def subtract_numbers(num1, num2):\n",
        "        result = num1 - num2\n",
        "        print(f\"Difference: {result}\")\n",
        "        return result\n",
        "\n",
        "MathOperations.add_numbers(5, 3)\n",
        "MathOperations.subtract_numbers(5, 3)\n"
      ],
      "metadata": {
        "colab": {
          "base_uri": "https://localhost:8080/"
        },
        "id": "8RjNmyVtvXlY",
        "outputId": "023110d9-fff9-4c3d-efb7-8ca940061abe"
      },
      "execution_count": 7,
      "outputs": [
        {
          "output_type": "stream",
          "name": "stdout",
          "text": [
            "Sum: 8\n",
            "Difference: 2\n"
          ]
        },
        {
          "output_type": "execute_result",
          "data": {
            "text/plain": [
              "2"
            ]
          },
          "metadata": {},
          "execution_count": 7
        }
      ]
    },
    {
      "cell_type": "code",
      "source": [
        "# 8. Implement a class Person with a class method to count the total number of persons created.\n",
        "class Person:\n",
        "    count = 0\n",
        "\n",
        "    def __init__(self, name, age):\n",
        "        self.name = name\n",
        "        self.age = age\n",
        "        Person.count += 1\n",
        "\n",
        "    @classmethod\n",
        "    def total_persons(cls):\n",
        "        return f\"Total number of persons created: {cls.count}\"\n",
        "\n",
        "person1 = Person(\"Alice\", 30)\n",
        "person2 = Person(\"Bob\", 25)\n",
        "person3 = Person(\"Charlie\", 35)\n",
        "\n",
        "print(Person.total_persons())\n"
      ],
      "metadata": {
        "colab": {
          "base_uri": "https://localhost:8080/"
        },
        "id": "cM_kHvpcvlhm",
        "outputId": "85156b2e-8739-462f-810c-3a9bb324b3e4"
      },
      "execution_count": 8,
      "outputs": [
        {
          "output_type": "stream",
          "name": "stdout",
          "text": [
            "Total number of persons created: 3\n"
          ]
        }
      ]
    },
    {
      "cell_type": "code",
      "source": [
        "# 9. Write a class Fraction with attributes numerator and denominator. Override the str method to display the fraction as \"numerator/denominator\".\n",
        "class Fraction:\n",
        "    def __init__(self, numerator, denominator):\n",
        "        self.numerator = numerator\n",
        "        self.denominator = denominator\n",
        "    def __str__(self):\n",
        "        return f\"{self.numerator}/{self.denominator}\"\n",
        "\n",
        "fraction1 = Fraction(3, 4)\n",
        "fraction2 = Fraction(5, 6)\n",
        "\n",
        "print(fraction1)\n",
        "print(fraction2)\n"
      ],
      "metadata": {
        "colab": {
          "base_uri": "https://localhost:8080/"
        },
        "id": "wGetJYjwv0ZB",
        "outputId": "a7dd4c37-051d-47cd-dc7c-006ae6014ae7"
      },
      "execution_count": 9,
      "outputs": [
        {
          "output_type": "stream",
          "name": "stdout",
          "text": [
            "3/4\n",
            "5/6\n"
          ]
        }
      ]
    },
    {
      "cell_type": "code",
      "source": [
        "# 10. Demonstrate operator overloading by creating a class Vector and overriding the add method to add two vectors.\n",
        "class Vector:\n",
        "    def __init__(self, x, y):\n",
        "        self.x = x\n",
        "        self.y = y\n",
        "\n",
        "    def __add__(self, other):\n",
        "        if isinstance(other, Vector):\n",
        "            return Vector(self.x + other.x, self.y + other.y)\n",
        "        return NotImplemented\n",
        "\n",
        "    def __str__(self):\n",
        "        return f\"({self.x}, {self.y})\"\n",
        "\n",
        "v1 = Vector(3, 4)\n",
        "v2 = Vector(1, 2)\n",
        "\n",
        "result = v1 + v2\n",
        "print(f\"Result of vector addition: {result}\")\n"
      ],
      "metadata": {
        "colab": {
          "base_uri": "https://localhost:8080/"
        },
        "id": "GZE-xnn8wE1Q",
        "outputId": "e4bdbcd2-c221-4abe-c124-ec1d0296c6be"
      },
      "execution_count": 10,
      "outputs": [
        {
          "output_type": "stream",
          "name": "stdout",
          "text": [
            "Result of vector addition: (4, 6)\n"
          ]
        }
      ]
    },
    {
      "cell_type": "code",
      "source": [
        "# 11. Create a class Person with attributes name and age. Add a method greet() that prints \"Hello, my name is {name} and I am {age} years old.\"\n",
        "class Person:\n",
        "    def __init__(self, name, age):\n",
        "        self.name = name\n",
        "        self.age = age\n",
        "\n",
        "    def greet(self):\n",
        "        print(f\"Hello, my name is {self.name} and I am {self.age} years old.\")\n",
        "\n",
        "person1 = Person(\"Shikhar\", 21)\n",
        "\n",
        "person1.greet()\n"
      ],
      "metadata": {
        "colab": {
          "base_uri": "https://localhost:8080/"
        },
        "id": "Q3pX1meawbHV",
        "outputId": "659941c0-c5a1-4908-aa30-cb6802e53452"
      },
      "execution_count": 11,
      "outputs": [
        {
          "output_type": "stream",
          "name": "stdout",
          "text": [
            "Hello, my name is Shikhar and I am 21 years old.\n"
          ]
        }
      ]
    },
    {
      "cell_type": "code",
      "source": [
        "# 12. Implement a class Student with attributes name and grades. Create a method average_grade() to compute the average of the grades.\n",
        "class Student:\n",
        "    def __init__(self, name, grades):\n",
        "        self.name = name\n",
        "        self.grades = grades\n",
        "\n",
        "    def average_grade(self):\n",
        "        if len(self.grades) > 0:\n",
        "            return sum(self.grades) / len(self.grades)\n",
        "        else:\n",
        "            return 0\n",
        "\n",
        "student1 = Student(\"Shikhar\", [88, 92, 85, 78, 90])\n",
        "print(f\"Average grade for {student1.name}: {student1.average_grade():.2f}\")\n"
      ],
      "metadata": {
        "colab": {
          "base_uri": "https://localhost:8080/"
        },
        "id": "h0ThPuoAwrWt",
        "outputId": "85e3c154-2a64-4651-e1ee-8ceb55281d6a"
      },
      "execution_count": 12,
      "outputs": [
        {
          "output_type": "stream",
          "name": "stdout",
          "text": [
            "Average grade for Shikhar: 86.60\n"
          ]
        }
      ]
    },
    {
      "cell_type": "code",
      "source": [
        "# 13. Create a class Rectangle with methods set_dimensions() to set the dimensions and area() to calculate the area\n",
        "class Rectangle:\n",
        "    def __init__(self):\n",
        "        self.width = 0\n",
        "        self.height = 0\n",
        "\n",
        "    def set_dimensions(self, width, height):\n",
        "        self.width = width\n",
        "        self.height = height\n",
        "\n",
        "    def area(self):\n",
        "        return self.width * self.height\n",
        "\n",
        "rect = Rectangle()\n",
        "rect.set_dimensions(5, 10)\n",
        "print(f\"Area of the rectangle: {rect.area()}\")\n"
      ],
      "metadata": {
        "colab": {
          "base_uri": "https://localhost:8080/"
        },
        "id": "Nq2SMlnGxavb",
        "outputId": "c8d5e67c-3a68-4a4d-ed29-bba1b9a83027"
      },
      "execution_count": 13,
      "outputs": [
        {
          "output_type": "stream",
          "name": "stdout",
          "text": [
            "Area of the rectangle: 50\n"
          ]
        }
      ]
    },
    {
      "cell_type": "code",
      "source": [
        "# 14. Create a class Employee with a method calculate_salary() that computes the salary based on hours worked and hourly rate. Create a derived class Manager that adds a bonus to the salary.\n",
        "class Employee:\n",
        "    def __init__(self, name, hours_worked, hourly_rate):\n",
        "        self.name = name\n",
        "        self.hours_worked = hours_worked\n",
        "        self.hourly_rate = hourly_rate\n",
        "\n",
        "    def calculate_salary(self):\n",
        "        return self.hours_worked * self.hourly_rate\n",
        "\n",
        "class Manager(Employee):\n",
        "    def __init__(self, name, hours_worked, hourly_rate, bonus):\n",
        "        super().__init__(name, hours_worked, hourly_rate)\n",
        "        self.bonus = bonus\n",
        "\n",
        "    def calculate_salary(self):\n",
        "        base_salary = super().calculate_salary()\n",
        "        return base_salary + self.bonus\n",
        "\n",
        "employee1 = Employee(\"Shikhar\", 160, 25)\n",
        "manager1 = Manager(\"Akash\", 160, 30, 500)\n",
        "print(f\"Salary of {employee1.name}: ${employee1.calculate_salary()}\")\n",
        "print(f\"Salary of {manager1.name}: ${manager1.calculate_salary()}\")\n"
      ],
      "metadata": {
        "colab": {
          "base_uri": "https://localhost:8080/"
        },
        "id": "iZyzyhD9xt1s",
        "outputId": "8f610258-c237-44ab-b43f-114bd6e359bf"
      },
      "execution_count": 14,
      "outputs": [
        {
          "output_type": "stream",
          "name": "stdout",
          "text": [
            "Salary of Shikhar: $4000\n",
            "Salary of Akash: $5300\n"
          ]
        }
      ]
    },
    {
      "cell_type": "code",
      "source": [
        "#15. Create a class Product with attributes name, price, and quantity. Implement a method total_price() that calculates the total price of the product.\n",
        "class Product:\n",
        "    def __init__(self, name, price, quantity):\n",
        "        self.name = name\n",
        "        self.price = price\n",
        "        self.quantity = quantity\n",
        "\n",
        "    def total_price(self):\n",
        "        return self.price * self.quantity\n",
        "\n",
        "product1 = Product(\"Laptop\", 1000, 3)\n",
        "print(f\"Total price for {product1.name}: ${product1.total_price()}\")\n"
      ],
      "metadata": {
        "colab": {
          "base_uri": "https://localhost:8080/"
        },
        "id": "tENDg3H3yPGL",
        "outputId": "891fdbd5-0121-49d9-8738-8283a9019018"
      },
      "execution_count": 15,
      "outputs": [
        {
          "output_type": "stream",
          "name": "stdout",
          "text": [
            "Total price for Laptop: $3000\n"
          ]
        }
      ]
    },
    {
      "cell_type": "code",
      "source": [
        "# 16. Create a class Animal with an abstract method sound(). Create two derived classes Cow and Sheep that implement the sound() method.\n",
        "from abc import ABC, abstractmethod\n",
        "\n",
        "class Animal(ABC):\n",
        "    @abstractmethod\n",
        "    def sound(self):\n",
        "        pass\n",
        "\n",
        "class Cow(Animal):\n",
        "    def sound(self):\n",
        "        return \"Moo\"\n",
        "\n",
        "class Sheep(Animal):\n",
        "    def sound(self):\n",
        "        return \"Mhh\"\n",
        "\n",
        "cow = Cow()\n",
        "sheep = Sheep()\n",
        "print(f\"Cow sound: {cow.sound()}\")\n",
        "print(f\"Sheep sound: {sheep.sound()}\")\n"
      ],
      "metadata": {
        "colab": {
          "base_uri": "https://localhost:8080/"
        },
        "id": "08oXZ8RVyf3f",
        "outputId": "8969c69e-adfc-4c1b-c9fe-27070f08cf49"
      },
      "execution_count": 16,
      "outputs": [
        {
          "output_type": "stream",
          "name": "stdout",
          "text": [
            "Cow sound: Moo\n",
            "Sheep sound: Mhh\n"
          ]
        }
      ]
    },
    {
      "cell_type": "code",
      "source": [
        "# 17. Create a class Book with attributes title, author, and year_published. Add a method get_book_info() that returns a formatted string with the book's details.\n",
        "class Book:\n",
        "    def __init__(self, title, author, year_published):\n",
        "        self.title = title\n",
        "        self.author = author\n",
        "        self.year_published = year_published\n",
        "\n",
        "    def get_book_info(self):\n",
        "        return f\"Title: {self.title}\\nAuthor: {self.author}\\nYear Published: {self.year_published}\"\n",
        "\n",
        "book1 = Book(\"The song of Ice and Fire\", \"Gorge RR martin\", 1960)\n",
        "print(book1.get_book_info())\n"
      ],
      "metadata": {
        "colab": {
          "base_uri": "https://localhost:8080/"
        },
        "id": "k30Zjs9Cy5m9",
        "outputId": "7a957e17-e7b6-4e25-b8fd-b83a2882214c"
      },
      "execution_count": 17,
      "outputs": [
        {
          "output_type": "stream",
          "name": "stdout",
          "text": [
            "Title: The song of Ice and Fire\n",
            "Author: Gorge RR martin\n",
            "Year Published: 1960\n"
          ]
        }
      ]
    },
    {
      "cell_type": "code",
      "source": [
        "# 18. Create a class House with attributes address and price. Create a derived class Mansion that adds an attribute number_of_rooms.\n",
        "class House:\n",
        "    def __init__(self, address, price):\n",
        "        self.address = address\n",
        "        self.price = price\n",
        "\n",
        "    def get_house_info(self):\n",
        "        return f\"Address: {self.address}\\nPrice: ${self.price}\"\n",
        "\n",
        "class Mansion(House):\n",
        "    def __init__(self, address, price, number_of_rooms):\n",
        "        super().__init__(address, price)\n",
        "        self.number_of_rooms = number_of_rooms\n",
        "\n",
        "    def get_mansion_info(self):\n",
        "        return f\"{self.get_house_info()}\\nNumber of Rooms: {self.number_of_rooms}\"\n",
        "\n",
        "house1 = House(\"Noida\", 300000)\n",
        "mansion1 = Mansion(\"Kanpur\", 10000000, 15)\n",
        "\n",
        "print(\"House Info:\")\n",
        "print(house1.get_house_info())\n",
        "print(\"\\nMansion Info:\")\n",
        "print(mansion1.get_mansion_info())\n"
      ],
      "metadata": {
        "colab": {
          "base_uri": "https://localhost:8080/"
        },
        "id": "T-wMV0q4zZb2",
        "outputId": "3a49c5a6-fd38-481c-cd8d-f843e5b80653"
      },
      "execution_count": 18,
      "outputs": [
        {
          "output_type": "stream",
          "name": "stdout",
          "text": [
            "House Info:\n",
            "Address: Noida\n",
            "Price: $300000\n",
            "\n",
            "Mansion Info:\n",
            "Address: Kanpur\n",
            "Price: $10000000\n",
            "Number of Rooms: 15\n"
          ]
        }
      ]
    }
  ]
}