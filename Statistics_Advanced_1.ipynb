{
  "nbformat": 4,
  "nbformat_minor": 0,
  "metadata": {
    "colab": {
      "provenance": []
    },
    "kernelspec": {
      "name": "python3",
      "display_name": "Python 3"
    },
    "language_info": {
      "name": "python"
    }
  },
  "cells": [
    {
      "cell_type": "markdown",
      "source": [
        "# Theory"
      ],
      "metadata": {
        "id": "eq6q3h6i_7ku"
      }
    },
    {
      "cell_type": "markdown",
      "source": [
        "1.What is a random variable in probability theory?\n",
        "  - In probability theory, a random variable is a variable that takes on numerical values determined by the outcome of a random experiment.\n",
        "  - It means a random variable assigns a number to each outcome in a sample space.\n",
        "  - Types of Random Variables:-\n",
        "    - Discrete Random Variable\n",
        "    - Continuous Random Variable"
      ],
      "metadata": {
        "id": "jeForlzJ_-_2"
      }
    },
    {
      "cell_type": "markdown",
      "source": [
        "2.What are the types of random variables?\n",
        "  - Types of Random Variables:-\n",
        "    - Discrete Random Variable:-\n",
        "      - Takes on a countable number of distinct values.\n",
        "      - Example- flipping a coin.\n",
        "    - Continuous Random Variable:-\n",
        "      - Takes on continuous number of possible values usually within an interval.\n",
        "      - Example- height of students in a class."
      ],
      "metadata": {
        "id": "utHosWA1Au_-"
      }
    },
    {
      "cell_type": "markdown",
      "source": [
        "3.Explain the difference between discrete and continuous distributions.\n",
        "  - Discrete Distributions:-\n",
        "    - A discrete distribution describes the probabilities of a discrete random variable which can take on countable values.\n",
        "    - Its values are separate and distinct.\n",
        "    - It is described by probablity mass function.\n",
        "  - Continuous Distributions:-\n",
        "    - A continuous distribution describes the probabilities of a continuous random variable which can take on any value within a range.\n",
        "    - Its values are continuous.\n",
        "    - It is described by probablity density function."
      ],
      "metadata": {
        "id": "HC78DZE4B3ZO"
      }
    },
    {
      "cell_type": "markdown",
      "source": [
        "4.What is a binomial distribution, and how is it used in probability?\n",
        "  - The binomial distribution is a discrete probability distribution that models the number of successes in a fixed number of independent trials.\n",
        "  - Where each trial has only two possible outcomes success or failure.\n",
        "  - A random variable X follows a binomial distribution if:\n",
        "    - There are n independent trials.\n",
        "    - Each trial has a success probability p and failure 1-p.\n",
        "    - X counts the number of successes in those n trials.\n",
        "  - It is used when:-\n",
        "    - There are n number of trials.\n",
        "    - Each trial is independent from each other.\n",
        "    - There is only two outcome true or false."
      ],
      "metadata": {
        "id": "uHNgkOg7Ewpa"
      }
    },
    {
      "cell_type": "markdown",
      "source": [
        "5.What is the standard normal distribution, and why is it important?\n",
        "  - The standard normal distribution have Mean=0 and Standard daviatin=1.\n",
        "  - It has the bell-shaped curve and is symmetric about the mean.\n",
        "  - Total area under the curve = 1.\n",
        "  - It is used for probability calculations like hypothesis testing.\n",
        "  - Normal distribution can be converted into standard normal distribution using Z score."
      ],
      "metadata": {
        "id": "RSuFSLkYGmUp"
      }
    },
    {
      "cell_type": "markdown",
      "source": [
        "6.What is the Central Limit Theorem (CLT), and why is it critical in statistics?\n",
        "  - According to CLT when independent random variables are added together, their normalized sum tends toward a normal distribution as long as the samples are independent and identically distributed.\n",
        "  - It can be used when your data are not normal, you can still use normal-based methods for the sample mean when the sample size is large.\n",
        "  - Inferential statistical techniques like hypotheisis testing use CLT to justify using normal distribution approximations."
      ],
      "metadata": {
        "id": "L3_zqpWTImzc"
      }
    },
    {
      "cell_type": "markdown",
      "source": [
        "7.What is the significance of confidence intervals in statistical analysis?\n",
        "  - A confidence interval is a range of values that are derived from a sample that is likely to contain the true value of a population parameter with a certain level of confidence.\n",
        "  - It express not just a point estimate but also how precise that estimate is.\n",
        "  - It help determine whether a population parameter is significantly different from a specific value."
      ],
      "metadata": {
        "id": "Ew5cgaJzKzPI"
      }
    },
    {
      "cell_type": "markdown",
      "source": [
        "8.What is the concept of expected value in a probability distribution?\n",
        "  - The expected value of a probability distribution is a weighted average of all possible values that a random variable can take which are weighted by their probabilities.\n",
        "  - It is the average outcome of an experiment when performed many times.\n",
        "  - Suppose you roll a fair 6-sided die.Each outcome has equal probability 1/6.\n",
        "  - So the expected value of a die roll is 3.5\n"
      ],
      "metadata": {
        "id": "Vhfhmk8tP0VP"
      }
    },
    {
      "cell_type": "code",
      "execution_count": 1,
      "metadata": {
        "colab": {
          "base_uri": "https://localhost:8080/",
          "height": 507
        },
        "id": "YPV-8jUa_mgk",
        "outputId": "d5e74994-ea1e-442e-cf37-e576bc7f5a87"
      },
      "outputs": [
        {
          "output_type": "stream",
          "name": "stdout",
          "text": [
            "Sample Mean: 49.97\n",
            "Sample Standard Deviation: 5.04\n"
          ]
        },
        {
          "output_type": "display_data",
          "data": {
            "text/plain": [
              "<Figure size 640x480 with 1 Axes>"
            ],
            "image/png": "[encoded data removed]"
          },
          "metadata": {}
        }
      ],
      "source": [
        "#9.Write a Python program to generate 1000 random numbers from a normal distribution with mean = 50 and standard deviation = 5.\n",
        "#Compute its mean and standard deviation using NumPy, and draw a histogram to visualize the distribution.\n",
        "\n",
        "import numpy as np\n",
        "import matplotlib.pyplot as plt\n",
        "\n",
        "mu = 50\n",
        "sigma = 5\n",
        "n = 1000\n",
        "\n",
        "data = np.random.normal(mu, sigma, n)\n",
        "\n",
        "sample_mean = np.mean(data)\n",
        "sample_std = np.std(data)\n",
        "\n",
        "print(f\"Sample Mean: {sample_mean:.2f}\")\n",
        "print(f\"Sample Standard Deviation: {sample_std:.2f}\")\n",
        "\n",
        "plt.hist(data, bins=30, edgecolor='black', color='skyblue', density=True)\n",
        "plt.title('Histogram of Normally Distributed Data')\n",
        "plt.xlabel('Value')\n",
        "plt.ylabel('Density')\n",
        "plt.axvline(sample_mean, color='red', linestyle='dashed', linewidth=2, label=f'Mean = {sample_mean:.2f}')\n",
        "plt.legend()\n",
        "plt.grid(True)\n",
        "plt.show()"
      ]
    }
  ]
}