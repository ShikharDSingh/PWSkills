{
  "nbformat": 4,
  "nbformat_minor": 0,
  "metadata": {
    "colab": {
      "provenance": []
    },
    "kernelspec": {
      "name": "python3",
      "display_name": "Python 3"
    },
    "language_info": {
      "name": "python"
    }
  },
  "cells": [
    {
      "cell_type": "markdown",
      "source": [
        "# Theory"
      ],
      "metadata": {
        "id": "W6bqKnd3T08K"
      }
    },
    {
      "cell_type": "markdown",
      "source": [
        "1.  What is the difference between interpreted and compiled languages?\n",
        "  - In interpreted languages the source code is executed line by line by an interpreter rather than being compiled into machine code all at once.\n",
        "  - The interpreter translates the source code into machine code during runtime.\n",
        "  - In compiled languages the source code is translated into machine code by a compiler before it executed.\n",
        "  - After compilation the resulting machine code can be run directly by the operating system."
      ],
      "metadata": {
        "id": "xYmfTfGfUBzT"
      }
    },
    {
      "cell_type": "markdown",
      "source": [
        "2.  What is exception handling in Python?\n",
        "  - Exception handling is a mechanism that allows you to handle runtime errors without stoping the program.\n",
        "  - It enables your code to respond to exceptional conditions, such as invalid input, file not found, and handle them appropriately as per the user."
      ],
      "metadata": {
        "id": "vU4n4BZEVHfU"
      }
    },
    {
      "cell_type": "markdown",
      "source": [
        "3. What is the purpose of the finally block in exception handling?\n",
        "  - The purpose of the finally block in exception handling is to define a section of code that always executes regardless of whether an exception was occured or not.\n",
        "  - This code block always runs."
      ],
      "metadata": {
        "id": "alQQO4seVyKI"
      }
    },
    {
      "cell_type": "markdown",
      "source": [
        "4. What is logging in Python?\n",
        "  - Logging is the process of recording logs or messages that describe events in your program.\n",
        "  - Logging is very helpful when we have to debug a large code base."
      ],
      "metadata": {
        "id": "XslI-DJaWVs2"
      }
    },
    {
      "cell_type": "markdown",
      "source": [
        "5. What is the significance of the `__del__` method in Python?\n",
        "  - The `__del__` method is a special method known as a destructor.\n",
        "  - It is called when an object is about to be destroyed.\n",
        "  - The `__del__` method allows you to define cleanup for your objects before it destroyes like releasing external resources."
      ],
      "metadata": {
        "id": "iIo4IkxYW89C"
      }
    },
    {
      "cell_type": "markdown",
      "source": [
        "6. What is the difference between `import` and `from ... import` in Python?\n",
        "  - `import` imports the entire module.\n",
        "  - To use anything from it you must specify it with the module name.\n",
        "  - `from ... import` imports only specific function from a module.\n",
        "  - You can use them directly without specifying module name."
      ],
      "metadata": {
        "id": "Yk5bJYEIX0Og"
      }
    },
    {
      "cell_type": "markdown",
      "source": [
        "7. How can you handle multiple exceptions in Python?\n",
        "  - You can handle multiple exceptions in different ways:-\n",
        "    - Using multiple except blocks\n",
        "    - Using only one exception block to catch all exceptions\n",
        "    - Catching multiple exceptions in one block\n",
        "    - Using `else` and `finally` blocks"
      ],
      "metadata": {
        "id": "y8XNHINdYtOv"
      }
    },
    {
      "cell_type": "markdown",
      "source": [
        "8. What is the purpose of the with statement when handling files in Python?\n",
        "  - The `with` statement is used to manage resources like files in a clean and safe way.\n",
        "  - Its handles the automatically opening and closing of the files."
      ],
      "metadata": {
        "id": "mvS-MG63aAF6"
      }
    },
    {
      "cell_type": "markdown",
      "source": [
        "9. What is the difference between multithreading and multiprocessing?\n",
        "  - Multithreading\n",
        "    - It is the execution of multiple threads within a single process.\n",
        "    - They share the same memory space.\n",
        "    - It is used in case of I\\O operations.\n",
        "  - Multiprocessing\n",
        "    - It is running multiple processes each with its own seperate CPU core and separate memory space.\n",
        "    - It is used to perform computational tasks."
      ],
      "metadata": {
        "id": "nScul7HuaysT"
      }
    },
    {
      "cell_type": "markdown",
      "source": [
        "10. What are the advantages of using logging in a program?\n",
        "  - Logging is more professional and recommended way of debugging.\n",
        "  - It makes debugging eaizer.\n",
        "  - It stores and makes a record of events rather than just printing it on screen.\n",
        "  - You can categorize messages by importance like:-\n",
        "      - Debug\n",
        "      - Info\n",
        "      - Warning\n",
        "      - Error\n",
        "      - Critical"
      ],
      "metadata": {
        "id": "EnIB464TcGe0"
      }
    },
    {
      "cell_type": "markdown",
      "source": [
        "11. What is memory management in Python?\n",
        "  - Memory management refers to the process by which Python allocates, manages, and releases memory for objects created during program execution.\n",
        "  - Python handles this automatically so you don’t usually need to manually manage memory.\n",
        "  - It automatically allot memory to variables and objects and derefrence them when out of scope.\n",
        "  - Python use garbage collector to perform memory management."
      ],
      "metadata": {
        "id": "21wbrW05dy0K"
      }
    },
    {
      "cell_type": "markdown",
      "source": [
        "12. What are the basic steps involved in exception handling in Python?\n",
        "  - The basic steps involved in exception handling are:-\n",
        "      - First the code which might raise exception should be written in `try` block.\n",
        "      - Then use `except` to specify exception and handle it in this block.\n",
        "      - You can use more than one `except` block to handle different exceptions.\n",
        "      - After that you can use `else` block if you want to perform some task if no exception is raised.\n",
        "      - `else` block is optional.\n",
        "      - And now you can use `finally` block to perform a task whether an exception was raised or not.\n",
        "      - This is also optional."
      ],
      "metadata": {
        "id": "43-pHMFSe5Sp"
      }
    },
    {
      "cell_type": "markdown",
      "source": [
        "13. Why is memory management important in Python?\n",
        "  - Memory management is important in Python due to:-\n",
        "      - Efficient use of resources.\n",
        "      - Prevent memory leaks.\n",
        "      - Improve performance.\n",
        "      - Stable code execution."
      ],
      "metadata": {
        "id": "B_932bDjgqyW"
      }
    },
    {
      "cell_type": "markdown",
      "source": [
        "14. What is the role of try and except in exception handling?\n",
        "  - try\n",
        "      - Any code that could cause an error goes inside the `try` block.\n",
        "      - If code have no error then code runs normally.\n",
        "      - If code raise an exception then control jumps into `except` block.\n",
        "  - except\n",
        "      - It prevents program from crashing by handling the exceptions.\n",
        "      - One or more `except` blocks are used to handle specific exceptions."
      ],
      "metadata": {
        "id": "-Fjxy-TWhaHy"
      }
    },
    {
      "cell_type": "markdown",
      "source": [
        "15. How does Python's garbage collection system work?\n",
        "  - Python’s garbage collection system is responsible for automatically releasing memory used by objects that are no longer needed\n",
        "  - It helps in preventing memory leaks and keeping your program efficient.\n",
        "  - Every object in python have refrence counter which defines how many variables points to this object.\n",
        "  - When its recrence counter gets zero, garbage collector automatically derefrence that object and free up memory."
      ],
      "metadata": {
        "id": "PiJCPTVqivV8"
      }
    },
    {
      "cell_type": "markdown",
      "source": [
        "16. What is the purpose of the else block in exception handling?\n",
        "  - The `else` block in exception handling is used to define a block of code that should run only if no exceptions are raised in the `try` block.\n",
        "  - If there is a exception raised in `try` block then control jumps into `expect` block and `else` block do not execute."
      ],
      "metadata": {
        "id": "9t3X88Q6kFJr"
      }
    },
    {
      "cell_type": "markdown",
      "source": [
        "17. What are the common logging levels in Python?\n",
        "  - `logging` module have five common logging levels\n",
        "      - `Debug`:- It is used to log events.\n",
        "      - `Info`:- It is used to show that a task is sucessfully completed.\n",
        "      - `Warning`:- It is used to something unexpected happened.\n",
        "      - `Error`:- It is used to show error that are raised while running the program.\n",
        "      - `Critical`:- It is used to show errors which will stop program."
      ],
      "metadata": {
        "id": "TRY_rStgk495"
      }
    },
    {
      "cell_type": "markdown",
      "source": [
        "18. What is the difference between os.fork() and multiprocessing in Python?\n",
        "  - `os.fork()`\n",
        "      - It is a low-level system call that creates a child process by duplicating the current process.\n",
        "      - It's available only on Unix-based systems like Linux and macOS, not on Windows.\n",
        "      - It creates a child process, which is an almost exact copy of the parent process.\n",
        "  - Multiprocessing\n",
        "      - It provides a higher-level API to create and manage processes.\n",
        "      - It works across all platforms.\n",
        "      - It supports process pools and communication between processes using queues and synchronization using locks.\n",
        "      - It is designed to fully utilize multiple CPU cores making it ideal for CPU-bound tasks.\n",
        "\n"
      ],
      "metadata": {
        "id": "iNPAN-8MmhhC"
      }
    },
    {
      "cell_type": "markdown",
      "source": [
        "19. What is the importance of closing a file in Python?\n",
        "  - Closing a file in Python is important for proper resource management and data integrity.\n",
        "  - When you open a file it consumes resources and closing it with `close()` function ensures those resources are released properly."
      ],
      "metadata": {
        "id": "FW4X8sWWn-Qw"
      }
    },
    {
      "cell_type": "markdown",
      "source": [
        "20. What is the difference between `file.read()` and `file.readline()` in Python?\n",
        "  - `file.read()`\n",
        "      - It reads the whole file at once.\n",
        "      - It returns a single string.\n",
        "  - `file.readline()`\n",
        "      - It returns only the first line of the file.\n",
        "      - And move the curser to the next line."
      ],
      "metadata": {
        "id": "ESO1c4aboqy_"
      }
    },
    {
      "cell_type": "markdown",
      "source": [
        "21. What is the logging module in Python used for?\n",
        "  - The logging module is used for logging or recording messages from your code.\n",
        "  - Such as errors, warnings, info, or debug so you can track the behavior of your code during development.\n",
        "  - This helps in eazy understanding of the code."
      ],
      "metadata": {
        "id": "C7nQoL8dpt9B"
      }
    },
    {
      "cell_type": "markdown",
      "source": [
        "22. What is the `os` module in Python used for in file handling?\n",
        "  - The `os` module in Python is used for interacting with the operating system.\n",
        "  - And in the context of file handling, it provides functions to manage files and directories.\n",
        "  - You can create, alter, delete files and directories from your computer."
      ],
      "metadata": {
        "id": "J1-0XvrLqrLh"
      }
    },
    {
      "cell_type": "markdown",
      "source": [
        "23. What are the challenges associated with memory management in Python?\n",
        "  - Challenges associated with memory management:-\n",
        "      - Reference Cycles:- When two objects refrence each other in cycle it causes problems.\n",
        "      - Memory Leaks:- When size of program exceds the memory then memory leak occures.\n",
        "      - Garbage Collection Pauses:- Garbage collection slow downs the program by checking for memory to clean up."
      ],
      "metadata": {
        "id": "44JbfGe-rgrb"
      }
    },
    {
      "cell_type": "markdown",
      "source": [
        "24. How do you raise an exception manually in Python?\n",
        "  - You can raise an exception manually by using the `raise` statement.\n",
        "  - This allows you to trigger an error intentionally.\n",
        "  - You can raise an exception by either a built-in exception or a custom one, when some condition in your code isn’t met."
      ],
      "metadata": {
        "id": "_R-I-4W0tSUZ"
      }
    },
    {
      "cell_type": "markdown",
      "source": [
        "25. Why is it important to use multithreading in certain applications?\n",
        "  - Using multithreading in certain applications is important because it allows your code to perform multiple tasks concurrently.\n",
        "  - This improves efficiency and responsiveness of the program.\n",
        "  - It is mainly use in I/O taskes and UI tasks."
      ],
      "metadata": {
        "id": "Fco4JPqat2BI"
      }
    },
    {
      "cell_type": "markdown",
      "source": [
        "#Practical Questions"
      ],
      "metadata": {
        "id": "PrcDEeiJ5cia"
      }
    },
    {
      "cell_type": "code",
      "execution_count": 1,
      "metadata": {
        "id": "3KxaXsXkTzB9"
      },
      "outputs": [],
      "source": [
        "# 1.How can you open a file for writing in Python and write a string to it\n",
        "with open(\"output.txt\", \"w\") as file:\n",
        "    file.write(\"Hello, this is a new string!\")"
      ]
    },
    {
      "cell_type": "code",
      "source": [
        "# 2.Write a Python program to read the contents of a file and print each line\n",
        "try:\n",
        "    with open(\"example.txt\", 'r') as file:\n",
        "        for line in file:\n",
        "            print(line)\n",
        "except FileNotFoundError:\n",
        "    print(f\"The file '{example.txt}' was not found.\")\n",
        "except IOError:\n",
        "    print(\"An error occurred while reading the file.\")\n"
      ],
      "metadata": {
        "colab": {
          "base_uri": "https://localhost:8080/"
        },
        "id": "SHgPBAYJ5_k_",
        "outputId": "fa0c54d0-8956-42bb-ea9c-9bd0f6101738"
      },
      "execution_count": 2,
      "outputs": [
        {
          "output_type": "stream",
          "name": "stdout",
          "text": [
            "Hello, I am Shikhar Singh\n",
            "\n",
            "I am pursuing Data Science Course\n"
          ]
        }
      ]
    },
    {
      "cell_type": "code",
      "source": [
        "# 3.How would you handle a case where the file doesn't exist while trying to open it for reading\n",
        "filename = \"newFile.txt\"\n",
        "\n",
        "try:\n",
        "    with open(filename, 'r') as file:\n",
        "        contents = file.read()\n",
        "        print(contents)\n",
        "except FileNotFoundError:\n",
        "    print(f\"Error: The file '{filename}' does not exist.\")\n"
      ],
      "metadata": {
        "colab": {
          "base_uri": "https://localhost:8080/"
        },
        "id": "b2Rh3jbI7SQr",
        "outputId": "4239cc9b-a108-4d5f-87f2-cb971f0ff046"
      },
      "execution_count": 3,
      "outputs": [
        {
          "output_type": "stream",
          "name": "stdout",
          "text": [
            "Error: The file 'newFile.txt' does not exist.\n"
          ]
        }
      ]
    },
    {
      "cell_type": "code",
      "source": [
        "# 4.Write a Python script that reads from one file and writes its content to another file\n",
        "source_file = \"example.txt\"\n",
        "destination_file = \"destination.txt\"\n",
        "\n",
        "try:\n",
        "    with open(source_file, 'r') as src:\n",
        "        with open(destination_file, 'w') as dest:\n",
        "            for line in src:\n",
        "                dest.write(line)\n",
        "\n",
        "    print(f\"Contents copied from '{source_file}' to '{destination_file}'.\")\n",
        "except FileNotFoundError:\n",
        "    print(f\"Error: The source file '{source_file}' does not exist.\")\n",
        "except IOError as e:\n",
        "    print(f\"An I/O error occurred: {e}\")\n"
      ],
      "metadata": {
        "colab": {
          "base_uri": "https://localhost:8080/"
        },
        "id": "wfBmnvng8c5E",
        "outputId": "2a9984f2-a5df-4538-a8fc-1e38fdd3ce2b"
      },
      "execution_count": 4,
      "outputs": [
        {
          "output_type": "stream",
          "name": "stdout",
          "text": [
            "Contents copied from 'example.txt' to 'destination.txt'.\n"
          ]
        }
      ]
    },
    {
      "cell_type": "code",
      "source": [
        "# 5.How would you catch and handle division by zero error in Python\n",
        "try:\n",
        "    a = 5\n",
        "    b = 0\n",
        "    result = a / b\n",
        "    print(\"Result:\", result)\n",
        "except ZeroDivisionError:\n",
        "    print(\"Error: Division by zero is not allowed.\")\n"
      ],
      "metadata": {
        "colab": {
          "base_uri": "https://localhost:8080/"
        },
        "id": "3svLu2cl8v2O",
        "outputId": "74782b4e-11ce-4fbc-ed0f-b987a1aaffb1"
      },
      "execution_count": 5,
      "outputs": [
        {
          "output_type": "stream",
          "name": "stdout",
          "text": [
            "Error: Division by zero is not allowed.\n"
          ]
        }
      ]
    },
    {
      "cell_type": "code",
      "source": [
        "# 6.Write a Python program that logs an error message to a log file when a division by zero exception occurs\n",
        "import logging\n",
        "\n",
        "logging.basicConfig(filename='error.log', level=logging.ERROR)\n",
        "\n",
        "try:\n",
        "    result = 10 / 0\n",
        "except ZeroDivisionError:\n",
        "    logging.error(\"Division by zero occurred.\")\n",
        "    print(\"Error: Cannot divide by zero.\")\n"
      ],
      "metadata": {
        "colab": {
          "base_uri": "https://localhost:8080/"
        },
        "id": "og-zUC1N9CiX",
        "outputId": "b83a621e-3557-4bae-82dc-bc53dec3822a"
      },
      "execution_count": 6,
      "outputs": [
        {
          "output_type": "stream",
          "name": "stderr",
          "text": [
            "ERROR:root:Division by zero occurred.\n"
          ]
        },
        {
          "output_type": "stream",
          "name": "stdout",
          "text": [
            "Error: Cannot divide by zero.\n"
          ]
        }
      ]
    },
    {
      "cell_type": "code",
      "source": [
        "# 7.How do you log information at different levels (INFO, ERROR, WARNING) in Python using the logging module\n",
        "\n",
        "import logging\n",
        "\n",
        "logging.basicConfig(\n",
        "    filename='app.log',\n",
        "    level=logging.DEBUG,\n",
        "    format='%(asctime)s - %(levelname)s - %(message)s'\n",
        ")\n",
        "\n",
        "logging.debug(\"This is a DEBUG message (for development use).\")\n",
        "logging.info(\"This is an INFO message (general info).\")\n",
        "logging.warning(\"This is a WARNING message (something unexpected).\")\n",
        "logging.error(\"This is an ERROR message (an error occurred).\")\n",
        "logging.critical(\"This is a CRITICAL message (severe failure).\")\n"
      ],
      "metadata": {
        "colab": {
          "base_uri": "https://localhost:8080/"
        },
        "id": "2Dc6NUlj9lb4",
        "outputId": "533b6cee-67c2-41e1-b079-b8ed2bbcfdde"
      },
      "execution_count": 7,
      "outputs": [
        {
          "output_type": "stream",
          "name": "stderr",
          "text": [
            "WARNING:root:This is a WARNING message (something unexpected).\n",
            "ERROR:root:This is an ERROR message (an error occurred).\n",
            "CRITICAL:root:This is a CRITICAL message (severe failure).\n"
          ]
        }
      ]
    },
    {
      "cell_type": "code",
      "source": [
        "# 8.Write a program to handle a file opening error using exception handling\n",
        "filename = \"newfile.txt\"\n",
        "\n",
        "try:\n",
        "    with open(filename, 'r') as file:\n",
        "        contents = file.read()\n",
        "        print(contents)\n",
        "except FileNotFoundError:\n",
        "    print(f\"Error: The file '{filename}' was not found.\")\n",
        "except IOError:\n",
        "    print(f\"Error: Could not read the file '{filename}'.\")\n"
      ],
      "metadata": {
        "colab": {
          "base_uri": "https://localhost:8080/"
        },
        "id": "UsCtxPKl-CMB",
        "outputId": "8a5f0a59-7b38-4952-9ccd-5dd1e7d3bd09"
      },
      "execution_count": 8,
      "outputs": [
        {
          "output_type": "stream",
          "name": "stdout",
          "text": [
            "Error: The file 'newfile.txt' was not found.\n"
          ]
        }
      ]
    },
    {
      "cell_type": "code",
      "source": [
        "# 9. How can you read a file line by line and store its content in a list in Python\n",
        "with open('example.txt', 'r') as file:\n",
        "    lines = file.readlines()\n",
        "print(lines)"
      ],
      "metadata": {
        "colab": {
          "base_uri": "https://localhost:8080/"
        },
        "id": "QcKvDoqS-V2y",
        "outputId": "7c12bea9-0acc-416f-ad0d-07ba09a239ff"
      },
      "execution_count": 9,
      "outputs": [
        {
          "output_type": "stream",
          "name": "stdout",
          "text": [
            "['Hello, I am Shikhar Singh\\n', 'I am pursuing Data Science Course']\n"
          ]
        }
      ]
    },
    {
      "cell_type": "code",
      "source": [
        "# 10.How can you append data to an existing file in Python\n",
        "with open('example.txt', 'a') as file:\n",
        "    file.write(\"\\nThis is a new line.\\n\")"
      ],
      "metadata": {
        "id": "h-RhKjqr-kV3"
      },
      "execution_count": 10,
      "outputs": []
    },
    {
      "cell_type": "code",
      "source": [
        "# 11.Write a Python program that uses a try-except block to handle an error when attempting to access a dictionary key that doesn't exist\n",
        "my_dict = {\"name\": \"Shikhar\", \"age\": 21}\n",
        "\n",
        "try:\n",
        "    value = my_dict[\"address\"]\n",
        "    print(\"Address:\", value)\n",
        "except KeyError:\n",
        "    print(\"Error: The key 'address' does not exist in the dictionary.\")\n"
      ],
      "metadata": {
        "colab": {
          "base_uri": "https://localhost:8080/"
        },
        "id": "dvnLz07I-_AP",
        "outputId": "bbe42724-b0b3-4d76-c11a-d9e2c7d414e2"
      },
      "execution_count": 11,
      "outputs": [
        {
          "output_type": "stream",
          "name": "stdout",
          "text": [
            "Error: The key 'address' does not exist in the dictionary.\n"
          ]
        }
      ]
    },
    {
      "cell_type": "code",
      "source": [
        "# 12.Write a program that demonstrates using multiple except blocks to handle different types of exceptions\n",
        "x = int(input(\"Enter a number: \"))\n",
        "y = int(input(\"Enter another number: \"))\n",
        "try:\n",
        "    result = x / y\n",
        "    print(\"Result:\", result)\n",
        "except ZeroDivisionError:\n",
        "    print(\"Error: You can't divide by zero!\")\n",
        "except ValueError:\n",
        "    print(\"Error: Please enter valid integers.\")\n",
        "except Exception as e:\n",
        "    print(f\"An unexpected error occurred: {e}\")\n"
      ],
      "metadata": {
        "colab": {
          "base_uri": "https://localhost:8080/"
        },
        "id": "1T1GJZ8W_LcE",
        "outputId": "38b7eba5-da11-43bd-e421-6a27f2786d5b"
      },
      "execution_count": 12,
      "outputs": [
        {
          "output_type": "stream",
          "name": "stdout",
          "text": [
            "Enter a number: 12\n",
            "Enter another number: 0\n",
            "Error: You can't divide by zero!\n"
          ]
        }
      ]
    },
    {
      "cell_type": "code",
      "source": [
        "# 13.How would you check if a file exists before attempting to read it in Python\n",
        "import os\n",
        "\n",
        "filename = \"example.txt\"\n",
        "\n",
        "if os.path.exists(filename):\n",
        "    with open(filename, 'r') as file:\n",
        "        contents = file.read()\n",
        "        print(contents)\n",
        "else:\n",
        "    print(f\"The file '{filename}' does not exist.\")"
      ],
      "metadata": {
        "colab": {
          "base_uri": "https://localhost:8080/"
        },
        "id": "E0am9EIP_r5h",
        "outputId": "df2be798-ab36-4042-9388-b2e498ebcdd4"
      },
      "execution_count": 13,
      "outputs": [
        {
          "output_type": "stream",
          "name": "stdout",
          "text": [
            "Hello, I am Shikhar Singh\n",
            "I am pursuing Data Science Course\n",
            "This is a new line.\n",
            "\n"
          ]
        }
      ]
    },
    {
      "cell_type": "code",
      "source": [
        "# 14. Write a program that uses the logging module to log both informational and error messages\n",
        "import logging\n",
        "\n",
        "logging.basicConfig(\n",
        "    filename='app.log',\n",
        "    level=logging.INFO,\n",
        "    format='%(asctime)s - %(levelname)s - %(message)s'\n",
        ")\n",
        "\n",
        "def divide(a, b):\n",
        "    logging.info(f\"Attempting to divide {a} by {b}\")\n",
        "    try:\n",
        "        result = a / b\n",
        "        logging.info(f\"Division successful: {result}\")\n",
        "        return result\n",
        "    except ZeroDivisionError:\n",
        "        logging.error(\"Error: Division by zero attempted.\")\n",
        "        print(\"Cannot divide by zero.\")\n",
        "\n",
        "divide(10, 2)\n",
        "divide(5, 0)\n"
      ],
      "metadata": {
        "colab": {
          "base_uri": "https://localhost:8080/"
        },
        "id": "TQD5v_Iv_9MQ",
        "outputId": "7dd4c1ef-86d2-4f3c-aba8-430de59e4cbe"
      },
      "execution_count": 14,
      "outputs": [
        {
          "output_type": "stream",
          "name": "stderr",
          "text": [
            "ERROR:root:Error: Division by zero attempted.\n"
          ]
        },
        {
          "output_type": "stream",
          "name": "stdout",
          "text": [
            "Cannot divide by zero.\n"
          ]
        }
      ]
    },
    {
      "cell_type": "code",
      "source": [
        "# 15.Write a Python program that prints the content of a file and handles the case when the file is empty\n",
        "filename = \"example.txt\"\n",
        "\n",
        "try:\n",
        "    with open(filename, 'r') as file:\n",
        "        contents = file.read()\n",
        "        if contents:\n",
        "            print(contents)\n",
        "        else:\n",
        "            print(f\"The file '{filename}' is empty.\")\n",
        "except FileNotFoundError:\n",
        "    print(f\"The file '{filename}' does not exist.\")\n",
        "except IOError:\n",
        "    print(f\"An error occurred while reading the file '{filename}'.\")\n"
      ],
      "metadata": {
        "colab": {
          "base_uri": "https://localhost:8080/"
        },
        "id": "aFOzqNRIARUe",
        "outputId": "d9036ea2-3bb6-4387-ccc5-b5f2e78e1b25"
      },
      "execution_count": 15,
      "outputs": [
        {
          "output_type": "stream",
          "name": "stdout",
          "text": [
            "Hello, I am Shikhar Singh\n",
            "I am pursuing Data Science Course\n",
            "This is a new line.\n",
            "\n"
          ]
        }
      ]
    },
    {
      "cell_type": "code",
      "source": [
        "# 16.Demonstrate how to use memory profiling to check the memory usage of a small program\n",
        "!pip install memory_profiler\n",
        "\n",
        "%load_ext memory_profiler\n",
        "\n",
        "def my_func():\n",
        "    a = [1] * (10**6)\n",
        "    b = [2] * (2 * 10**6)\n",
        "    del b\n",
        "    return a\n",
        "\n",
        "%memit my_func()\n"
      ],
      "metadata": {
        "colab": {
          "base_uri": "https://localhost:8080/"
        },
        "id": "jQvEJo1hAbb3",
        "outputId": "c396759f-1d20-46a7-86d1-fcc0b0e9f310"
      },
      "execution_count": 16,
      "outputs": [
        {
          "output_type": "stream",
          "name": "stdout",
          "text": [
            "Requirement already satisfied: memory_profiler in /usr/local/lib/python3.11/dist-packages (0.61.0)\n",
            "Requirement already satisfied: psutil in /usr/local/lib/python3.11/dist-packages (from memory_profiler) (5.9.5)\n",
            "peak memory: 112.78 MiB, increment: 0.53 MiB\n"
          ]
        }
      ]
    },
    {
      "cell_type": "code",
      "source": [
        "# 17.Write a Python program to create and write a list of numbers to a file, one number per line\n",
        "numbers = [10, 20, 30, 40, 50]\n",
        "\n",
        "with open('numbers.txt', 'w') as file:\n",
        "    for number in numbers:\n",
        "        file.write(str(number) + '\\n')\n"
      ],
      "metadata": {
        "id": "y2kfFpWWA7Ya"
      },
      "execution_count": 17,
      "outputs": []
    },
    {
      "cell_type": "code",
      "source": [
        "# 18. How would you implement a basic logging setup that logs to a file with rotation after 1MB\n",
        "import logging\n",
        "from logging.handlers import RotatingFileHandler\n",
        "\n",
        "logger = logging.getLogger('my_logger')\n",
        "logger.setLevel(logging.DEBUG)\n",
        "\n",
        "handler = RotatingFileHandler('app.log', maxBytes=1_000_000, backupCount=3)\n",
        "handler.setLevel(logging.DEBUG)\n",
        "\n",
        "formatter = logging.Formatter('%(asctime)s - %(levelname)s - %(message)s')\n",
        "handler.setFormatter(formatter)\n",
        "\n",
        "logger.addHandler(handler)\n",
        "\n",
        "logger.info(\"This is an informational message.\")\n",
        "logger.error(\"This is an error message.\")"
      ],
      "metadata": {
        "colab": {
          "base_uri": "https://localhost:8080/"
        },
        "id": "26M2sMq5BG04",
        "outputId": "bb2914a1-2261-42fa-dc12-5728ca897fe5"
      },
      "execution_count": 18,
      "outputs": [
        {
          "output_type": "stream",
          "name": "stderr",
          "text": [
            "INFO:my_logger:This is an informational message.\n",
            "ERROR:my_logger:This is an error message.\n"
          ]
        }
      ]
    },
    {
      "cell_type": "code",
      "source": [
        "# 19.Write a program that handles both IndexError and KeyError using a try-except block\n",
        "my_list = [1, 2, 3]\n",
        "my_dict = {\"a\": 10, \"b\": 20}\n",
        "\n",
        "try:\n",
        "    print(my_dict[\"c\"],my_list[5])\n",
        "\n",
        "\n",
        "except IndexError:\n",
        "    print(\"Error: List index out of range.\")\n",
        "except KeyError:\n",
        "    print(\"Error: Dictionary key not found.\")\n"
      ],
      "metadata": {
        "colab": {
          "base_uri": "https://localhost:8080/"
        },
        "id": "KuHZH5IWBcTR",
        "outputId": "60b5aefa-fd69-4d15-8d7a-79356ee8d961"
      },
      "execution_count": 19,
      "outputs": [
        {
          "output_type": "stream",
          "name": "stdout",
          "text": [
            "Error: Dictionary key not found.\n"
          ]
        }
      ]
    },
    {
      "cell_type": "code",
      "source": [
        "# 20.How would you open a file and read its contents using a context manager in Python\n",
        "with open('example.txt', 'r') as file:\n",
        "    contents = file.read()\n",
        "    print(contents)\n"
      ],
      "metadata": {
        "colab": {
          "base_uri": "https://localhost:8080/"
        },
        "id": "GtoNMAuoBly6",
        "outputId": "52c5341a-35ed-4c88-817b-38fb522434cf"
      },
      "execution_count": 20,
      "outputs": [
        {
          "output_type": "stream",
          "name": "stdout",
          "text": [
            "Hello, I am Shikhar Singh\n",
            "I am pursuing Data Science Course\n",
            "This is a new line.\n",
            "\n"
          ]
        }
      ]
    },
    {
      "cell_type": "code",
      "source": [
        "# 21.Write a Python program that reads a file and prints the number of occurrences of a specific word\n",
        "filename = \"example.txt\"\n",
        "word_to_count = \"name\"\n",
        "\n",
        "try:\n",
        "    with open(filename, 'r') as file:\n",
        "        contents = file.read().lower()\n",
        "        words = contents.split()\n",
        "        count = words.count(word_to_count.lower())\n",
        "    print(f\"The word '{word_to_count}' occurs {count} times in the file.\")\n",
        "except FileNotFoundError:\n",
        "    print(f\"Error: The file '{filename}' was not found.\")\n",
        "except IOError:\n",
        "    print(f\"Error: Could not read the file '{filename}'.\")\n"
      ],
      "metadata": {
        "colab": {
          "base_uri": "https://localhost:8080/"
        },
        "id": "_f_9UEdbCNtB",
        "outputId": "154c9320-c6ee-4b0c-d7c1-fc2e6dd6d788"
      },
      "execution_count": 21,
      "outputs": [
        {
          "output_type": "stream",
          "name": "stdout",
          "text": [
            "The word 'name' occurs 0 times in the file.\n"
          ]
        }
      ]
    },
    {
      "cell_type": "code",
      "source": [
        "# 22.How can you check if a file is empty before attempting to read its contents\n",
        "import os\n",
        "\n",
        "filename = 'example.txt'\n",
        "\n",
        "if os.path.exists(filename) and os.path.getsize(filename) > 0:\n",
        "    with open(filename, 'r') as file:\n",
        "        contents = file.read()\n",
        "        print(contents)\n",
        "else:\n",
        "    print(f\"The file '{filename}' is empty or does not exist.\")\n"
      ],
      "metadata": {
        "colab": {
          "base_uri": "https://localhost:8080/"
        },
        "id": "bDmhh2IOCoub",
        "outputId": "5cd30fc6-3c10-443d-baf4-b3249b949f13"
      },
      "execution_count": 22,
      "outputs": [
        {
          "output_type": "stream",
          "name": "stdout",
          "text": [
            "Hello, I am Shikhar Singh\n",
            "I am pursuing Data Science Course\n",
            "This is a new line.\n",
            "\n"
          ]
        }
      ]
    },
    {
      "cell_type": "code",
      "source": [
        "# 23.Write a Python program that writes to a log file when an error occurs during file handling\n",
        "import logging\n",
        "\n",
        "logging.basicConfig(\n",
        "    filename='file_errors.log',\n",
        "    level=logging.ERROR,\n",
        "    format='%(asctime)s - %(levelname)s - %(message)s'\n",
        ")\n",
        "\n",
        "filename = 'example.txt'\n",
        "\n",
        "try:\n",
        "    with open(filename, 'r') as file:\n",
        "        contents = file.read()\n",
        "        print(contents)\n",
        "except (FileNotFoundError, IOError) as e:\n",
        "    logging.error(f\"Error while handling the file '{filename}': {e}\")\n",
        "    print(f\"An error occurred. Details have been logged.\")\n"
      ],
      "metadata": {
        "colab": {
          "base_uri": "https://localhost:8080/"
        },
        "id": "11Q1CzrsC9Tz",
        "outputId": "599e53ce-04a1-4d40-9615-a65e72c8c80c"
      },
      "execution_count": 23,
      "outputs": [
        {
          "output_type": "stream",
          "name": "stdout",
          "text": [
            "Hello, I am Shikhar Singh\n",
            "I am pursuing Data Science Course\n",
            "This is a new line.\n",
            "\n"
          ]
        }
      ]
    }
  ]
}